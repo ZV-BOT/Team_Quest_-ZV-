{
  "cells": [
    {
      "cell_type": "markdown",
      "metadata": {
        "id": "view-in-github",
        "colab_type": "text"
      },
      "source": [
        "<a href=\"https://colab.research.google.com/github/ZV-BOT/Team_Quest_-ZV-/blob/main/lp2_3.ipynb\" target=\"_parent\"><img src=\"https://colab.research.google.com/assets/colab-badge.svg\" alt=\"Open In Colab\"/></a>"
      ]
    },
    {
      "cell_type": "markdown",
      "metadata": {
        "id": "4Jnjx2jOdSs6"
      },
      "source": [
        "# Customer Churn Classification Project"
      ]
    },
    {
      "cell_type": "markdown",
      "metadata": {
        "id": "jYtUKyUcdStI"
      },
      "source": [
        "**Overview:**\n",
        "This project aims to analyze customer churn in a telecommunication company using classification models. We will explore and analyze the provided datasets to gain insights into factors influencing customer retention. The goal is to build machine learning models capable of predicting customer churn and offer valuable insights to the company for strategic decision-making.\n",
        "\n",
        "**1.0 Business Understanding:**\n",
        "\n",
        "   **1.1 Objective:**\n",
        "   The main objective is to identify and understand factors influencing customer churn in the telecommunication industry. We aim to build an effective classification model to predicting whether a customer will churn or not.  "
      ]
    },
    {
      "cell_type": "markdown",
      "metadata": {
        "id": "fuIUhRswdStM"
      },
      "source": [
        "## 1.1 Explanation of features\n",
        "\n",
        "#### The following describes the columns present in the data.\n",
        "1.\tGender -- Whether the customer is a male or a female\n",
        "2.\tSeniorCitizen -- Whether a customer is a senior citizen or not\n",
        "3.\tPartner -- Whether the customer has a partner or not (Yes, No)\n",
        "4.\tDependents -- Whether the customer has dependents or not (Yes, No)\n",
        "5.\tTenure -- Number of months the customer has stayed with the company\n",
        "6.\tPhone Service -- Whether the customer has a phone service or not (Yes, No)\n",
        "7.\tMultipleLines -- Whether the customer has multiple lines or not\n",
        "8.\tInternetService -- Customer's internet service provider (DSL, Fiber Optic, No)\n",
        "9.\tOnlineSecurity -- Whether the customer has online security or not (Yes, No, No Internet)\n",
        "10.\tOnlineBackup -- Whether the customer has online backup or not (Yes, No, No Internet)\n",
        "11.\tDeviceProtection -- Whether the customer has device protection or not (Yes, No, No internet service)\n",
        "12.\tTechSupport -- Whether the customer has tech support or not (Yes, No, No internet)\n",
        "13.\tStreamingTV -- Whether the customer has streaming TV or not (Yes, No, No internet service)\n",
        "14.\tStreamingMovies -- Whether the customer has streaming movies or not (Yes, No, No Internet service)\n",
        "15.\tContract -- The contract term of the customer (Month-to-Month, One year, Two year)\n",
        "16.\tPaperlessBilling -- Whether the customer has paperless billing or not (Yes, No)\n",
        "17.\tPayment Method -- The customer's payment method (Electronic check, mailed check, Bank transfer(automatic), Credit card(automatic))\n",
        "18.\tMonthlyCharges -- The amount charged to the customer monthly\n",
        "19.\tTotalCharges -- The total amount charged to the customer\n",
        "20.\tChurn -- Whether the customer churned or not (Yes or No)"
      ]
    },
    {
      "cell_type": "markdown",
      "metadata": {
        "id": "z_eRhcrSdStR"
      },
      "source": [
        "**1.2 Hypothesis (Null and Alternate):**\n",
        "   - Null Hypothesis (H0): There is no significant relationship between the Total Charges and customer churn.\n",
        "   - Alternate Hypothesis (H1): There is a significant relationship between the Total Charges and customer churn.\n",
        "   Ho : There seems to be no relationship between gender and whether the person is a senior citizen and the churn rate\n",
        "   H1: There is a relationship between age and senior citizen and churn rate\n",
        "\n",
        "   **1.3 Research/Analytical Questions:**\n",
        "  \n",
        "   - How do different services (PhoneService, MultipleLines, InternetService, OnlineSecurity, OnlineBackup, etc.) contribute to customer churn?\n",
        "   - Is there any correlation between gender, age (SeniorCitizen), having a partner, having dependents, and customer churn?\n",
        "   - How does the contract type (Contract) and billing preferences (PaperlessBilling, PaymentMethod) influence customer churn?\n",
        "   - Is there a correlation between monthly charges (MonthlyCharges), total charges (TotalCharges), and customer churn?\n",
        "   - What insights can be gained from the analysis to improve customer retention?\n",
        "   - Is there a relationship between gender and the churn rate\n",
        "   - How does internet service affect churn rate?\n",
        "   - Are senior citizens more likely to churn"
      ]
    },
    {
      "cell_type": "markdown",
      "metadata": {
        "id": "LSMW6NxRdStU"
      },
      "source": [
        "\n",
        "**2.0 Data Understanding:**\n",
        "\n",
        "   **2.1 Importation:**\n",
        "   Import necessary libraries and modules for data analysis and machine learning."
      ]
    },
    {
      "cell_type": "code",
      "execution_count": null,
      "metadata": {
        "id": "mhIDzuu0dStX"
      },
      "outputs": [],
      "source": [
        "# Data manipulation packages\n",
        "import pandas as pd\n",
        "import numpy as np\n",
        "\n",
        "#Data Visualization packages\n",
        "import matplotlib.pyplot as plt\n",
        "import seaborn as sns\n",
        "import os\n",
        "\n",
        "# Machine learning Packages\n",
        "from sklearn.pipeline import Pipeline\n",
        "from sklearn.compose import ColumnTransformer\n",
        "from sklearn.impute import SimpleImputer\n",
        "from sklearn.preprocessing import StandardScaler,MinMaxScaler,RobustScaler\n",
        "from sklearn.preprocessing import OneHotEncoder , LabelEncoder , OrdinalEncoder\n",
        "from sklearn.preprocessing import FunctionTransformer\n",
        "from sklearn.tree import DecisionTreeClassifier\n",
        "from sklearn.metrics import accuracy_score, classification_report\n",
        "from sklearn.model_selection import train_test_split\n",
        "from sklearn import set_config\n",
        "from sklearn.ensemble import RandomForestClassifier\n",
        "from sklearn.svm import SVC\n",
        "from sklearn.naive_bayes import GaussianNB\n",
        "from sklearn.ensemble import GradientBoostingClassifier\n",
        "from scipy.stats import pearsonr,stats as stats\n",
        "from sklearn.model_selection import cross_val_score\n",
        "from imblearn.under_sampling import RandomUnderSampler\n",
        "from imblearn.over_sampling import RandomOverSampler,SMOTE\n",
        "from sklearn.feature_selection import SelectKBest,mutual_info_classif\n",
        "from imblearn.over_sampling import SMOTE\n",
        "from sklearn.datasets import make_classification\n",
        "from sklearn.metrics import confusion_matrix\n",
        "from sklearn.metrics import roc_auc_score,roc_curve,auc\n",
        "from sklearn.model_selection import GridSearchCV\n",
        "from imblearn.pipeline import Pipeline as imbpipeline\n",
        "\n",
        "\n",
        "# Database connection package\n",
        "import pyodbc\n",
        "\n",
        "# Ignore warnings (optional)\n",
        "import warnings\n",
        "warnings.filterwarnings(\"ignore\")\n"
      ]
    },
    {
      "cell_type": "code",
      "execution_count": null,
      "metadata": {
        "id": "ETR6_LCxdStd"
      },
      "outputs": [],
      "source": [
        "# Loading environment variables from .env file into a dictionary\n",
        "environment_variables = dotenv_values('.env')\n",
        "\n",
        "# Getting the values for the credentials set in the '.env' file\n",
        "server = environment_variables.get(\"SERVER\")\n",
        "database = environment_variables.get(\"DATABASE\")\n",
        "username = environment_variables.get(\"USERNAME\")\n",
        "password = environment_variables.get(\"PASSWORD\")\n",
        "\n",
        "\n",
        "connection_string = f\"DRIVER={{SQL Server}};SERVER={server};DATABASE={database};UID={username};PWD={password}\"\n",
        "conn = pyodbc.connect(connection_string)"
      ]
    },
    {
      "cell_type": "markdown",
      "metadata": {
        "id": "keb2mx_CdSth"
      },
      "source": [
        "**2.2 Loading of Dataset:**\n",
        "   Load the data from the SQL Server database and OneDrive."
      ]
    },
    {
      "cell_type": "code",
      "execution_count": null,
      "metadata": {
        "id": "pfKprkZUdStj"
      },
      "outputs": [],
      "source": [
        "query= \"select * from dbo.LP2_Telco_churn_first_3000\""
      ]
    },
    {
      "cell_type": "code",
      "execution_count": null,
      "metadata": {
        "id": "X2PdGcGadStl",
        "outputId": "d3965567-7ecf-40ef-8bf5-794a61e5a3d5"
      },
      "outputs": [
        {
          "data": {
            "text/html": [
              "<div>\n",
              "<style scoped>\n",
              "    .dataframe tbody tr th:only-of-type {\n",
              "        vertical-align: middle;\n",
              "    }\n",
              "\n",
              "    .dataframe tbody tr th {\n",
              "        vertical-align: top;\n",
              "    }\n",
              "\n",
              "    .dataframe thead th {\n",
              "        text-align: right;\n",
              "    }\n",
              "</style>\n",
              "<table border=\"1\" class=\"dataframe\">\n",
              "  <thead>\n",
              "    <tr style=\"text-align: right;\">\n",
              "      <th></th>\n",
              "      <th>customerID</th>\n",
              "      <th>gender</th>\n",
              "      <th>SeniorCitizen</th>\n",
              "      <th>Partner</th>\n",
              "      <th>Dependents</th>\n",
              "      <th>tenure</th>\n",
              "      <th>PhoneService</th>\n",
              "      <th>MultipleLines</th>\n",
              "      <th>InternetService</th>\n",
              "      <th>OnlineSecurity</th>\n",
              "      <th>...</th>\n",
              "      <th>DeviceProtection</th>\n",
              "      <th>TechSupport</th>\n",
              "      <th>StreamingTV</th>\n",
              "      <th>StreamingMovies</th>\n",
              "      <th>Contract</th>\n",
              "      <th>PaperlessBilling</th>\n",
              "      <th>PaymentMethod</th>\n",
              "      <th>MonthlyCharges</th>\n",
              "      <th>TotalCharges</th>\n",
              "      <th>Churn</th>\n",
              "    </tr>\n",
              "  </thead>\n",
              "  <tbody>\n",
              "    <tr>\n",
              "      <th>0</th>\n",
              "      <td>7590-VHVEG</td>\n",
              "      <td>Female</td>\n",
              "      <td>False</td>\n",
              "      <td>True</td>\n",
              "      <td>False</td>\n",
              "      <td>1</td>\n",
              "      <td>False</td>\n",
              "      <td>NaN</td>\n",
              "      <td>DSL</td>\n",
              "      <td>False</td>\n",
              "      <td>...</td>\n",
              "      <td>False</td>\n",
              "      <td>False</td>\n",
              "      <td>False</td>\n",
              "      <td>False</td>\n",
              "      <td>Month-to-month</td>\n",
              "      <td>True</td>\n",
              "      <td>Electronic check</td>\n",
              "      <td>29.850000</td>\n",
              "      <td>29.85</td>\n",
              "      <td>False</td>\n",
              "    </tr>\n",
              "    <tr>\n",
              "      <th>1</th>\n",
              "      <td>5575-GNVDE</td>\n",
              "      <td>Male</td>\n",
              "      <td>False</td>\n",
              "      <td>False</td>\n",
              "      <td>False</td>\n",
              "      <td>34</td>\n",
              "      <td>True</td>\n",
              "      <td>False</td>\n",
              "      <td>DSL</td>\n",
              "      <td>True</td>\n",
              "      <td>...</td>\n",
              "      <td>True</td>\n",
              "      <td>False</td>\n",
              "      <td>False</td>\n",
              "      <td>False</td>\n",
              "      <td>One year</td>\n",
              "      <td>False</td>\n",
              "      <td>Mailed check</td>\n",
              "      <td>56.950001</td>\n",
              "      <td>1889.50</td>\n",
              "      <td>False</td>\n",
              "    </tr>\n",
              "  </tbody>\n",
              "</table>\n",
              "<p>2 rows × 21 columns</p>\n",
              "</div>"
            ],
            "text/plain": [
              "   customerID  gender  SeniorCitizen  Partner  Dependents  tenure  \\\n",
              "0  7590-VHVEG  Female          False     True       False       1   \n",
              "1  5575-GNVDE    Male          False    False       False      34   \n",
              "\n",
              "   PhoneService MultipleLines InternetService OnlineSecurity  ...  \\\n",
              "0         False           NaN             DSL          False  ...   \n",
              "1          True         False             DSL           True  ...   \n",
              "\n",
              "  DeviceProtection TechSupport StreamingTV StreamingMovies        Contract  \\\n",
              "0            False       False       False           False  Month-to-month   \n",
              "1             True       False       False           False        One year   \n",
              "\n",
              "  PaperlessBilling     PaymentMethod MonthlyCharges  TotalCharges  Churn  \n",
              "0             True  Electronic check      29.850000         29.85  False  \n",
              "1            False      Mailed check      56.950001       1889.50  False  \n",
              "\n",
              "[2 rows x 21 columns]"
            ]
          },
          "execution_count": 2,
          "metadata": {},
          "output_type": "execute_result"
        }
      ],
      "source": [
        "# loading the first data using a csv\n",
        "first_data = pd.read_csv('churn_data.csv')\n",
        "first_data.head(2)"
      ]
    },
    {
      "cell_type": "code",
      "execution_count": null,
      "metadata": {
        "id": "xAvcfwKCdSts",
        "outputId": "eb4e2afd-0b48-4e07-faa3-5f875e5ff9bc"
      },
      "outputs": [
        {
          "name": "stdout",
          "output_type": "stream",
          "text": [
            "<class 'pandas.core.frame.DataFrame'>\n",
            "RangeIndex: 3000 entries, 0 to 2999\n",
            "Data columns (total 21 columns):\n",
            " #   Column            Non-Null Count  Dtype  \n",
            "---  ------            --------------  -----  \n",
            " 0   customerID        3000 non-null   object \n",
            " 1   gender            3000 non-null   object \n",
            " 2   SeniorCitizen     3000 non-null   bool   \n",
            " 3   Partner           3000 non-null   bool   \n",
            " 4   Dependents        3000 non-null   bool   \n",
            " 5   tenure            3000 non-null   int64  \n",
            " 6   PhoneService      3000 non-null   bool   \n",
            " 7   MultipleLines     2731 non-null   object \n",
            " 8   InternetService   3000 non-null   object \n",
            " 9   OnlineSecurity    2349 non-null   object \n",
            " 10  OnlineBackup      2349 non-null   object \n",
            " 11  DeviceProtection  2349 non-null   object \n",
            " 12  TechSupport       2349 non-null   object \n",
            " 13  StreamingTV       2349 non-null   object \n",
            " 14  StreamingMovies   2349 non-null   object \n",
            " 15  Contract          3000 non-null   object \n",
            " 16  PaperlessBilling  3000 non-null   bool   \n",
            " 17  PaymentMethod     3000 non-null   object \n",
            " 18  MonthlyCharges    3000 non-null   float64\n",
            " 19  TotalCharges      2995 non-null   float64\n",
            " 20  Churn             2999 non-null   object \n",
            "dtypes: bool(5), float64(2), int64(1), object(13)\n",
            "memory usage: 389.8+ KB\n"
          ]
        }
      ],
      "source": [
        "first_data.info()"
      ]
    },
    {
      "cell_type": "code",
      "execution_count": null,
      "metadata": {
        "id": "SKXHuafGdStu",
        "outputId": "a21edd09-b15b-4eb5-b4e8-bf37b01c0be3"
      },
      "outputs": [
        {
          "data": {
            "text/html": [
              "<div>\n",
              "<style scoped>\n",
              "    .dataframe tbody tr th:only-of-type {\n",
              "        vertical-align: middle;\n",
              "    }\n",
              "\n",
              "    .dataframe tbody tr th {\n",
              "        vertical-align: top;\n",
              "    }\n",
              "\n",
              "    .dataframe thead th {\n",
              "        text-align: right;\n",
              "    }\n",
              "</style>\n",
              "<table border=\"1\" class=\"dataframe\">\n",
              "  <thead>\n",
              "    <tr style=\"text-align: right;\">\n",
              "      <th></th>\n",
              "      <th>customerID</th>\n",
              "      <th>gender</th>\n",
              "      <th>SeniorCitizen</th>\n",
              "      <th>Partner</th>\n",
              "      <th>Dependents</th>\n",
              "      <th>tenure</th>\n",
              "      <th>PhoneService</th>\n",
              "      <th>MultipleLines</th>\n",
              "      <th>InternetService</th>\n",
              "      <th>OnlineSecurity</th>\n",
              "      <th>...</th>\n",
              "      <th>DeviceProtection</th>\n",
              "      <th>TechSupport</th>\n",
              "      <th>StreamingTV</th>\n",
              "      <th>StreamingMovies</th>\n",
              "      <th>Contract</th>\n",
              "      <th>PaperlessBilling</th>\n",
              "      <th>PaymentMethod</th>\n",
              "      <th>MonthlyCharges</th>\n",
              "      <th>TotalCharges</th>\n",
              "      <th>Churn</th>\n",
              "    </tr>\n",
              "  </thead>\n",
              "  <tbody>\n",
              "    <tr>\n",
              "      <th>0</th>\n",
              "      <td>5600-PDUJF</td>\n",
              "      <td>Male</td>\n",
              "      <td>0</td>\n",
              "      <td>No</td>\n",
              "      <td>No</td>\n",
              "      <td>6</td>\n",
              "      <td>Yes</td>\n",
              "      <td>No</td>\n",
              "      <td>DSL</td>\n",
              "      <td>No</td>\n",
              "      <td>...</td>\n",
              "      <td>No</td>\n",
              "      <td>Yes</td>\n",
              "      <td>No</td>\n",
              "      <td>No</td>\n",
              "      <td>Month-to-month</td>\n",
              "      <td>Yes</td>\n",
              "      <td>Credit card (automatic)</td>\n",
              "      <td>49.5</td>\n",
              "      <td>312.7</td>\n",
              "      <td>No</td>\n",
              "    </tr>\n",
              "    <tr>\n",
              "      <th>1</th>\n",
              "      <td>8292-TYSPY</td>\n",
              "      <td>Male</td>\n",
              "      <td>0</td>\n",
              "      <td>No</td>\n",
              "      <td>No</td>\n",
              "      <td>19</td>\n",
              "      <td>Yes</td>\n",
              "      <td>No</td>\n",
              "      <td>DSL</td>\n",
              "      <td>No</td>\n",
              "      <td>...</td>\n",
              "      <td>Yes</td>\n",
              "      <td>Yes</td>\n",
              "      <td>No</td>\n",
              "      <td>No</td>\n",
              "      <td>Month-to-month</td>\n",
              "      <td>Yes</td>\n",
              "      <td>Credit card (automatic)</td>\n",
              "      <td>55.0</td>\n",
              "      <td>1046.5</td>\n",
              "      <td>Yes</td>\n",
              "    </tr>\n",
              "  </tbody>\n",
              "</table>\n",
              "<p>2 rows × 21 columns</p>\n",
              "</div>"
            ],
            "text/plain": [
              "   customerID gender  SeniorCitizen Partner Dependents  tenure PhoneService  \\\n",
              "0  5600-PDUJF   Male              0      No         No       6          Yes   \n",
              "1  8292-TYSPY   Male              0      No         No      19          Yes   \n",
              "\n",
              "  MultipleLines InternetService OnlineSecurity  ... DeviceProtection  \\\n",
              "0            No             DSL             No  ...               No   \n",
              "1            No             DSL             No  ...              Yes   \n",
              "\n",
              "  TechSupport StreamingTV StreamingMovies        Contract PaperlessBilling  \\\n",
              "0         Yes          No              No  Month-to-month              Yes   \n",
              "1         Yes          No              No  Month-to-month              Yes   \n",
              "\n",
              "             PaymentMethod MonthlyCharges  TotalCharges Churn  \n",
              "0  Credit card (automatic)           49.5         312.7    No  \n",
              "1  Credit card (automatic)           55.0        1046.5   Yes  \n",
              "\n",
              "[2 rows x 21 columns]"
            ]
          },
          "execution_count": 3,
          "metadata": {},
          "output_type": "execute_result"
        }
      ],
      "source": [
        "# Loading the second dataset\n",
        "url = 'https://github.com/Azubi-Africa/Career_Accelerator_LP2-Classifcation/raw/main/LP2_Telco-churn-second-2000.csv'\n",
        "\n",
        "second_data= pd.read_csv(url)\n",
        "\n",
        "second_data.head(2)"
      ]
    },
    {
      "cell_type": "code",
      "execution_count": null,
      "metadata": {
        "id": "P9EPl6JZdStw",
        "outputId": "bacd1be2-f770-4217-f71a-e13066591776"
      },
      "outputs": [
        {
          "name": "stdout",
          "output_type": "stream",
          "text": [
            "<class 'pandas.core.frame.DataFrame'>\n",
            "RangeIndex: 2043 entries, 0 to 2042\n",
            "Data columns (total 21 columns):\n",
            " #   Column            Non-Null Count  Dtype  \n",
            "---  ------            --------------  -----  \n",
            " 0   customerID        2043 non-null   object \n",
            " 1   gender            2043 non-null   object \n",
            " 2   SeniorCitizen     2043 non-null   int64  \n",
            " 3   Partner           2043 non-null   object \n",
            " 4   Dependents        2043 non-null   object \n",
            " 5   tenure            2043 non-null   int64  \n",
            " 6   PhoneService      2043 non-null   object \n",
            " 7   MultipleLines     2043 non-null   object \n",
            " 8   InternetService   2043 non-null   object \n",
            " 9   OnlineSecurity    2043 non-null   object \n",
            " 10  OnlineBackup      2043 non-null   object \n",
            " 11  DeviceProtection  2043 non-null   object \n",
            " 12  TechSupport       2043 non-null   object \n",
            " 13  StreamingTV       2043 non-null   object \n",
            " 14  StreamingMovies   2043 non-null   object \n",
            " 15  Contract          2043 non-null   object \n",
            " 16  PaperlessBilling  2043 non-null   object \n",
            " 17  PaymentMethod     2043 non-null   object \n",
            " 18  MonthlyCharges    2043 non-null   float64\n",
            " 19  TotalCharges      2043 non-null   object \n",
            " 20  Churn             2043 non-null   object \n",
            "dtypes: float64(1), int64(2), object(18)\n",
            "memory usage: 335.3+ KB\n"
          ]
        }
      ],
      "source": [
        "second_data.info()"
      ]
    },
    {
      "cell_type": "code",
      "execution_count": null,
      "metadata": {
        "id": "ZvmANpoqdSty"
      },
      "outputs": [],
      "source": [
        "# Loading the third/test dataset\n",
        "df_test = pd.read_excel('Telco-churn-last-2000.xlsx')"
      ]
    },
    {
      "cell_type": "markdown",
      "metadata": {
        "id": "EUBME1G8dSt0"
      },
      "source": [
        "Standardization of the datasets"
      ]
    },
    {
      "cell_type": "code",
      "execution_count": null,
      "metadata": {
        "id": "9Ha_-IP2dSt2"
      },
      "outputs": [],
      "source": [
        "# Looping through the columns to change the boolean datatypes in the first data to objects\n",
        "boolean_columns = ['SeniorCitizen','Partner','Dependents','Churn','PhoneService','MultipleLines','OnlineSecurity','DeviceProtection','TechSupport','StreamingTV','StreamingMovies','PaperlessBilling']\n",
        "\n",
        "for col in boolean_columns:\n",
        "    first_data[col] = first_data[col].map({True: 'Yes', False: 'No'})\n"
      ]
    },
    {
      "cell_type": "code",
      "execution_count": null,
      "metadata": {
        "id": "j1_ir7ZGdSt4"
      },
      "outputs": [],
      "source": [
        "# removing the non-numeric characters from the total charges column\n",
        "second_data['TotalCharges'] = pd.to_numeric(second_data['TotalCharges'], errors='coerce')\n",
        "# changing the total charges column from an object to a float datatype\n",
        "second_data['TotalCharges'] = second_data['TotalCharges'].astype(float)\n",
        "# changing the datatype for the senior citizen column in the data2 from an int to a bool\n",
        "second_data['SeniorCitizen'] = second_data['SeniorCitizen'].astype(bool)\n",
        "# Replace int values in the senior citizen column of data2 to string values\n",
        "second_data['SeniorCitizen']= second_data['SeniorCitizen'].replace({False:'No', True:'Yes'})"
      ]
    },
    {
      "cell_type": "code",
      "execution_count": null,
      "metadata": {
        "id": "ndP7JyoldSt6"
      },
      "outputs": [],
      "source": [
        "# looping through the columns in the first data that had none as a value and replacing with no service\n",
        "columns_to_replace = ['MultipleLines', 'PhoneService', 'DeviceProtection', 'TechSupport', 'PaperlessBilling', 'StreamingTV', 'StreamingMovies', 'OnlineSecurity', 'OnlineBackup']\n",
        "\n",
        "for column in columns_to_replace:\n",
        "    first_data[column] = first_data[column].replace({False: 'No', True: 'Yes', None: 'No phone service'})"
      ]
    },
    {
      "cell_type": "code",
      "execution_count": null,
      "metadata": {
        "id": "DZS8YD05dSt7"
      },
      "outputs": [],
      "source": [
        "first_data = first_data.dropna(subset=['Churn'], axis=0)"
      ]
    },
    {
      "cell_type": "code",
      "execution_count": null,
      "metadata": {
        "id": "SLlwLLmTdSt9"
      },
      "outputs": [],
      "source": [
        "# standardizing the data in the testing dataset\n",
        "df_test['TotalCharges'] = pd.to_numeric(df_test['TotalCharges'], errors='coerce')\n",
        "df_test['SeniorCitizen'] = df_test['SeniorCitizen'].astype(bool)\n",
        "# Replace int values in the senior citizen column of data2 to string values\n",
        "df_test['SeniorCitizen']= df_test['SeniorCitizen'].replace({False:'No', True:'Yes'})"
      ]
    },
    {
      "cell_type": "markdown",
      "metadata": {
        "id": "vq3LEdiqdSt-"
      },
      "source": [
        "Joining the two datasets"
      ]
    },
    {
      "cell_type": "code",
      "execution_count": null,
      "metadata": {
        "id": "EsFW54yEdSt_",
        "outputId": "06bf1988-10d4-4bb4-8772-07cbdf8abb1a"
      },
      "outputs": [
        {
          "data": {
            "text/html": [
              "<div>\n",
              "<style scoped>\n",
              "    .dataframe tbody tr th:only-of-type {\n",
              "        vertical-align: middle;\n",
              "    }\n",
              "\n",
              "    .dataframe tbody tr th {\n",
              "        vertical-align: top;\n",
              "    }\n",
              "\n",
              "    .dataframe thead th {\n",
              "        text-align: right;\n",
              "    }\n",
              "</style>\n",
              "<table border=\"1\" class=\"dataframe\">\n",
              "  <thead>\n",
              "    <tr style=\"text-align: right;\">\n",
              "      <th></th>\n",
              "      <th>customerID</th>\n",
              "      <th>gender</th>\n",
              "      <th>SeniorCitizen</th>\n",
              "      <th>Partner</th>\n",
              "      <th>Dependents</th>\n",
              "      <th>tenure</th>\n",
              "      <th>PhoneService</th>\n",
              "      <th>MultipleLines</th>\n",
              "      <th>InternetService</th>\n",
              "      <th>OnlineSecurity</th>\n",
              "      <th>...</th>\n",
              "      <th>DeviceProtection</th>\n",
              "      <th>TechSupport</th>\n",
              "      <th>StreamingTV</th>\n",
              "      <th>StreamingMovies</th>\n",
              "      <th>Contract</th>\n",
              "      <th>PaperlessBilling</th>\n",
              "      <th>PaymentMethod</th>\n",
              "      <th>MonthlyCharges</th>\n",
              "      <th>TotalCharges</th>\n",
              "      <th>Churn</th>\n",
              "    </tr>\n",
              "  </thead>\n",
              "  <tbody>\n",
              "    <tr>\n",
              "      <th>0</th>\n",
              "      <td>7590-VHVEG</td>\n",
              "      <td>Female</td>\n",
              "      <td>No</td>\n",
              "      <td>Yes</td>\n",
              "      <td>No</td>\n",
              "      <td>1</td>\n",
              "      <td>No</td>\n",
              "      <td>No phone service</td>\n",
              "      <td>DSL</td>\n",
              "      <td>No</td>\n",
              "      <td>...</td>\n",
              "      <td>No</td>\n",
              "      <td>No</td>\n",
              "      <td>No</td>\n",
              "      <td>No</td>\n",
              "      <td>Month-to-month</td>\n",
              "      <td>Yes</td>\n",
              "      <td>Electronic check</td>\n",
              "      <td>29.850000</td>\n",
              "      <td>29.85</td>\n",
              "      <td>No</td>\n",
              "    </tr>\n",
              "    <tr>\n",
              "      <th>1</th>\n",
              "      <td>5575-GNVDE</td>\n",
              "      <td>Male</td>\n",
              "      <td>No</td>\n",
              "      <td>No</td>\n",
              "      <td>No</td>\n",
              "      <td>34</td>\n",
              "      <td>Yes</td>\n",
              "      <td>No</td>\n",
              "      <td>DSL</td>\n",
              "      <td>Yes</td>\n",
              "      <td>...</td>\n",
              "      <td>Yes</td>\n",
              "      <td>No</td>\n",
              "      <td>No</td>\n",
              "      <td>No</td>\n",
              "      <td>One year</td>\n",
              "      <td>No</td>\n",
              "      <td>Mailed check</td>\n",
              "      <td>56.950001</td>\n",
              "      <td>1889.50</td>\n",
              "      <td>No</td>\n",
              "    </tr>\n",
              "  </tbody>\n",
              "</table>\n",
              "<p>2 rows × 21 columns</p>\n",
              "</div>"
            ],
            "text/plain": [
              "   customerID  gender SeniorCitizen Partner Dependents  tenure PhoneService  \\\n",
              "0  7590-VHVEG  Female            No     Yes         No       1           No   \n",
              "1  5575-GNVDE    Male            No      No         No      34          Yes   \n",
              "\n",
              "      MultipleLines InternetService OnlineSecurity  ... DeviceProtection  \\\n",
              "0  No phone service             DSL             No  ...               No   \n",
              "1                No             DSL            Yes  ...              Yes   \n",
              "\n",
              "  TechSupport StreamingTV StreamingMovies        Contract PaperlessBilling  \\\n",
              "0          No          No              No  Month-to-month              Yes   \n",
              "1          No          No              No        One year               No   \n",
              "\n",
              "      PaymentMethod MonthlyCharges  TotalCharges  Churn  \n",
              "0  Electronic check      29.850000         29.85     No  \n",
              "1      Mailed check      56.950001       1889.50     No  \n",
              "\n",
              "[2 rows x 21 columns]"
            ]
          },
          "execution_count": 9,
          "metadata": {},
          "output_type": "execute_result"
        }
      ],
      "source": [
        "# Merging two datasets\n",
        "df = pd.concat([first_data,second_data])\n",
        "df.head(2)"
      ]
    },
    {
      "cell_type": "code",
      "execution_count": null,
      "metadata": {
        "id": "anrrdDB4dSuB"
      },
      "outputs": [],
      "source": [
        "df.to_csv('combined_data.csv')"
      ]
    },
    {
      "cell_type": "markdown",
      "metadata": {
        "id": "L2vxoSkWdSuC"
      },
      "source": [
        "**2.3 EDA:**\n",
        "   - Explore data (info, duplicated, null values, describe)"
      ]
    },
    {
      "cell_type": "code",
      "execution_count": null,
      "metadata": {
        "id": "Otjz4U8ddSuE",
        "outputId": "3aecb299-46a7-4977-cb9e-f3b414829d5c"
      },
      "outputs": [
        {
          "name": "stdout",
          "output_type": "stream",
          "text": [
            "<class 'pandas.core.frame.DataFrame'>\n",
            "Int64Index: 5043 entries, 0 to 2042\n",
            "Data columns (total 21 columns):\n",
            " #   Column            Non-Null Count  Dtype  \n",
            "---  ------            --------------  -----  \n",
            " 0   customerID        5043 non-null   object \n",
            " 1   gender            5043 non-null   object \n",
            " 2   SeniorCitizen     5043 non-null   object \n",
            " 3   Partner           5043 non-null   object \n",
            " 4   Dependents        5043 non-null   object \n",
            " 5   tenure            5043 non-null   int64  \n",
            " 6   PhoneService      5043 non-null   object \n",
            " 7   MultipleLines     5043 non-null   object \n",
            " 8   InternetService   5043 non-null   object \n",
            " 9   OnlineSecurity    5043 non-null   object \n",
            " 10  OnlineBackup      5043 non-null   object \n",
            " 11  DeviceProtection  5043 non-null   object \n",
            " 12  TechSupport       5043 non-null   object \n",
            " 13  StreamingTV       5043 non-null   object \n",
            " 14  StreamingMovies   5043 non-null   object \n",
            " 15  Contract          5043 non-null   object \n",
            " 16  PaperlessBilling  5043 non-null   object \n",
            " 17  PaymentMethod     5043 non-null   object \n",
            " 18  MonthlyCharges    5043 non-null   float64\n",
            " 19  TotalCharges      5035 non-null   float64\n",
            " 20  Churn             5042 non-null   object \n",
            "dtypes: float64(2), int64(1), object(18)\n",
            "memory usage: 866.8+ KB\n"
          ]
        }
      ],
      "source": [
        "df.info()"
      ]
    },
    {
      "cell_type": "code",
      "execution_count": null,
      "metadata": {
        "id": "y4LAPjkbdSuG",
        "outputId": "97f2b90e-959d-46d3-c803-7d92649273e9"
      },
      "outputs": [
        {
          "data": {
            "text/plain": [
              "0"
            ]
          },
          "execution_count": 10,
          "metadata": {},
          "output_type": "execute_result"
        }
      ],
      "source": [
        "# checked for duplicated values\n",
        "df.duplicated().sum()"
      ]
    },
    {
      "cell_type": "markdown",
      "metadata": {
        "id": "GAVJQlecdSuI"
      },
      "source": [
        "There was no duplicated values"
      ]
    },
    {
      "cell_type": "code",
      "execution_count": null,
      "metadata": {
        "id": "COEK7B1FdSuK",
        "outputId": "63ea7022-19d2-4d85-9fce-255d326c5e20"
      },
      "outputs": [
        {
          "data": {
            "text/html": [
              "<div>\n",
              "<style scoped>\n",
              "    .dataframe tbody tr th:only-of-type {\n",
              "        vertical-align: middle;\n",
              "    }\n",
              "\n",
              "    .dataframe tbody tr th {\n",
              "        vertical-align: top;\n",
              "    }\n",
              "\n",
              "    .dataframe thead th {\n",
              "        text-align: right;\n",
              "    }\n",
              "</style>\n",
              "<table border=\"1\" class=\"dataframe\">\n",
              "  <thead>\n",
              "    <tr style=\"text-align: right;\">\n",
              "      <th></th>\n",
              "      <th>count</th>\n",
              "      <th>mean</th>\n",
              "      <th>std</th>\n",
              "      <th>min</th>\n",
              "      <th>25%</th>\n",
              "      <th>50%</th>\n",
              "      <th>75%</th>\n",
              "      <th>max</th>\n",
              "    </tr>\n",
              "  </thead>\n",
              "  <tbody>\n",
              "    <tr>\n",
              "      <th>tenure</th>\n",
              "      <td>5043.0</td>\n",
              "      <td>32.576641</td>\n",
              "      <td>24.529807</td>\n",
              "      <td>0.000000</td>\n",
              "      <td>9.000000</td>\n",
              "      <td>29.000000</td>\n",
              "      <td>56.000000</td>\n",
              "      <td>72.000000</td>\n",
              "    </tr>\n",
              "    <tr>\n",
              "      <th>MonthlyCharges</th>\n",
              "      <td>5043.0</td>\n",
              "      <td>65.090214</td>\n",
              "      <td>30.068133</td>\n",
              "      <td>18.400000</td>\n",
              "      <td>35.775000</td>\n",
              "      <td>70.550003</td>\n",
              "      <td>90.050003</td>\n",
              "      <td>118.650002</td>\n",
              "    </tr>\n",
              "    <tr>\n",
              "      <th>TotalCharges</th>\n",
              "      <td>5035.0</td>\n",
              "      <td>2302.062861</td>\n",
              "      <td>2269.483576</td>\n",
              "      <td>18.799999</td>\n",
              "      <td>417.675003</td>\n",
              "      <td>1401.150024</td>\n",
              "      <td>3862.000000</td>\n",
              "      <td>8670.100000</td>\n",
              "    </tr>\n",
              "  </tbody>\n",
              "</table>\n",
              "</div>"
            ],
            "text/plain": [
              "                 count         mean          std        min         25%  \\\n",
              "tenure          5043.0    32.576641    24.529807   0.000000    9.000000   \n",
              "MonthlyCharges  5043.0    65.090214    30.068133  18.400000   35.775000   \n",
              "TotalCharges    5035.0  2302.062861  2269.483576  18.799999  417.675003   \n",
              "\n",
              "                        50%          75%          max  \n",
              "tenure            29.000000    56.000000    72.000000  \n",
              "MonthlyCharges    70.550003    90.050003   118.650002  \n",
              "TotalCharges    1401.150024  3862.000000  8670.100000  "
            ]
          },
          "execution_count": 14,
          "metadata": {},
          "output_type": "execute_result"
        }
      ],
      "source": [
        "df.describe().T"
      ]
    },
    {
      "cell_type": "markdown",
      "metadata": {
        "id": "53984hlXdSuM"
      },
      "source": [
        "Variability and Spread:\n",
        "\n",
        "Tenure:\n",
        "\n",
        "Insight: The standard deviation is 24.53, suggesting a considerable spread in tenure values.\n",
        "Further Action: To explore factors influencing the wide range of tenure, such as customer retention strategies.\n",
        "\n",
        "MonthlyCharges:\n",
        "\n",
        "Insight: The standard deviation is 30.07, indicating notable variability in monthly charges.\n",
        "Further Action: To investigate factors contributing to variations in monthly charges and their implications for customer behavior."
      ]
    },
    {
      "cell_type": "code",
      "execution_count": null,
      "metadata": {
        "id": "6fguVQMBdSuO",
        "outputId": "6a4b0d92-f692-4d9c-a553-30da60d43cd4"
      },
      "outputs": [
        {
          "data": {
            "text/html": [
              "<div>\n",
              "<style scoped>\n",
              "    .dataframe tbody tr th:only-of-type {\n",
              "        vertical-align: middle;\n",
              "    }\n",
              "\n",
              "    .dataframe tbody tr th {\n",
              "        vertical-align: top;\n",
              "    }\n",
              "\n",
              "    .dataframe thead th {\n",
              "        text-align: right;\n",
              "    }\n",
              "</style>\n",
              "<table border=\"1\" class=\"dataframe\">\n",
              "  <thead>\n",
              "    <tr style=\"text-align: right;\">\n",
              "      <th></th>\n",
              "      <th>count</th>\n",
              "      <th>unique</th>\n",
              "      <th>top</th>\n",
              "      <th>freq</th>\n",
              "    </tr>\n",
              "  </thead>\n",
              "  <tbody>\n",
              "    <tr>\n",
              "      <th>customerID</th>\n",
              "      <td>5043</td>\n",
              "      <td>5043</td>\n",
              "      <td>7590-VHVEG</td>\n",
              "      <td>1</td>\n",
              "    </tr>\n",
              "    <tr>\n",
              "      <th>gender</th>\n",
              "      <td>5043</td>\n",
              "      <td>2</td>\n",
              "      <td>Male</td>\n",
              "      <td>2559</td>\n",
              "    </tr>\n",
              "    <tr>\n",
              "      <th>SeniorCitizen</th>\n",
              "      <td>5043</td>\n",
              "      <td>2</td>\n",
              "      <td>No</td>\n",
              "      <td>4224</td>\n",
              "    </tr>\n",
              "    <tr>\n",
              "      <th>Partner</th>\n",
              "      <td>5043</td>\n",
              "      <td>2</td>\n",
              "      <td>No</td>\n",
              "      <td>2585</td>\n",
              "    </tr>\n",
              "    <tr>\n",
              "      <th>Dependents</th>\n",
              "      <td>5043</td>\n",
              "      <td>2</td>\n",
              "      <td>No</td>\n",
              "      <td>3482</td>\n",
              "    </tr>\n",
              "    <tr>\n",
              "      <th>PhoneService</th>\n",
              "      <td>5043</td>\n",
              "      <td>2</td>\n",
              "      <td>Yes</td>\n",
              "      <td>4554</td>\n",
              "    </tr>\n",
              "    <tr>\n",
              "      <th>MultipleLines</th>\n",
              "      <td>5043</td>\n",
              "      <td>3</td>\n",
              "      <td>No</td>\n",
              "      <td>2424</td>\n",
              "    </tr>\n",
              "    <tr>\n",
              "      <th>InternetService</th>\n",
              "      <td>5043</td>\n",
              "      <td>3</td>\n",
              "      <td>Fiber optic</td>\n",
              "      <td>2248</td>\n",
              "    </tr>\n",
              "    <tr>\n",
              "      <th>OnlineSecurity</th>\n",
              "      <td>5043</td>\n",
              "      <td>4</td>\n",
              "      <td>No</td>\n",
              "      <td>2507</td>\n",
              "    </tr>\n",
              "    <tr>\n",
              "      <th>OnlineBackup</th>\n",
              "      <td>5043</td>\n",
              "      <td>4</td>\n",
              "      <td>No</td>\n",
              "      <td>2231</td>\n",
              "    </tr>\n",
              "    <tr>\n",
              "      <th>DeviceProtection</th>\n",
              "      <td>5043</td>\n",
              "      <td>4</td>\n",
              "      <td>No</td>\n",
              "      <td>2219</td>\n",
              "    </tr>\n",
              "    <tr>\n",
              "      <th>TechSupport</th>\n",
              "      <td>5043</td>\n",
              "      <td>4</td>\n",
              "      <td>No</td>\n",
              "      <td>2472</td>\n",
              "    </tr>\n",
              "    <tr>\n",
              "      <th>StreamingTV</th>\n",
              "      <td>5043</td>\n",
              "      <td>4</td>\n",
              "      <td>No</td>\n",
              "      <td>2018</td>\n",
              "    </tr>\n",
              "    <tr>\n",
              "      <th>StreamingMovies</th>\n",
              "      <td>5043</td>\n",
              "      <td>4</td>\n",
              "      <td>Yes</td>\n",
              "      <td>1982</td>\n",
              "    </tr>\n",
              "    <tr>\n",
              "      <th>Contract</th>\n",
              "      <td>5043</td>\n",
              "      <td>3</td>\n",
              "      <td>Month-to-month</td>\n",
              "      <td>2744</td>\n",
              "    </tr>\n",
              "    <tr>\n",
              "      <th>PaperlessBilling</th>\n",
              "      <td>5043</td>\n",
              "      <td>2</td>\n",
              "      <td>Yes</td>\n",
              "      <td>2996</td>\n",
              "    </tr>\n",
              "    <tr>\n",
              "      <th>PaymentMethod</th>\n",
              "      <td>5043</td>\n",
              "      <td>4</td>\n",
              "      <td>Electronic check</td>\n",
              "      <td>1700</td>\n",
              "    </tr>\n",
              "    <tr>\n",
              "      <th>Churn</th>\n",
              "      <td>5042</td>\n",
              "      <td>2</td>\n",
              "      <td>No</td>\n",
              "      <td>3706</td>\n",
              "    </tr>\n",
              "  </tbody>\n",
              "</table>\n",
              "</div>"
            ],
            "text/plain": [
              "                 count unique               top  freq\n",
              "customerID        5043   5043        7590-VHVEG     1\n",
              "gender            5043      2              Male  2559\n",
              "SeniorCitizen     5043      2                No  4224\n",
              "Partner           5043      2                No  2585\n",
              "Dependents        5043      2                No  3482\n",
              "PhoneService      5043      2               Yes  4554\n",
              "MultipleLines     5043      3                No  2424\n",
              "InternetService   5043      3       Fiber optic  2248\n",
              "OnlineSecurity    5043      4                No  2507\n",
              "OnlineBackup      5043      4                No  2231\n",
              "DeviceProtection  5043      4                No  2219\n",
              "TechSupport       5043      4                No  2472\n",
              "StreamingTV       5043      4                No  2018\n",
              "StreamingMovies   5043      4               Yes  1982\n",
              "Contract          5043      3    Month-to-month  2744\n",
              "PaperlessBilling  5043      2               Yes  2996\n",
              "PaymentMethod     5043      4  Electronic check  1700\n",
              "Churn             5042      2                No  3706"
            ]
          },
          "execution_count": 15,
          "metadata": {},
          "output_type": "execute_result"
        }
      ],
      "source": [
        "df.describe(include='object').T"
      ]
    },
    {
      "cell_type": "markdown",
      "metadata": {
        "id": "YquMQ7CgdSuR"
      },
      "source": [
        "**2.3.1 Univariate Analysis:**\n",
        "     Explore individual variables for insights."
      ]
    },
    {
      "cell_type": "markdown",
      "metadata": {
        "id": "su4BjS2bdSuS"
      },
      "source": [
        "Univariate Analysis"
      ]
    },
    {
      "cell_type": "code",
      "execution_count": null,
      "metadata": {
        "id": "PDKlOzBQdSuT",
        "outputId": "90ae3186-073a-4722-df46-8db20315e672"
      },
      "outputs": [
        {
          "data": {
            "image/png": "[encoded data removed]",
            "text/plain": [
              "<Figure size 1000x1000 with 4 Axes>"
            ]
          },
          "metadata": {},
          "output_type": "display_data"
        }
      ],
      "source": [
        "df.hist(figsize=(10,10),grid=False,color = 'skyblue')\n",
        "plt.show()"
      ]
    },
    {
      "cell_type": "markdown",
      "metadata": {
        "id": "sRjY3X0XdSuV"
      },
      "source": [
        "Key Insights:\n",
        "- The distribution of the monthly charges seems to follow the bell curve of a normal distribution\n",
        "- Total charges column is positively skewed\n",
        "- The numerical columns depicted by the histogram depict abnormal distribution, some like the monthly charges column are negatively skewed and will need nomalization in the data preparation phase"
      ]
    },
    {
      "cell_type": "markdown",
      "metadata": {
        "id": "UflpcALOdSuX"
      },
      "source": [
        "### Further Observation using KDE and box plot"
      ]
    },
    {
      "cell_type": "code",
      "execution_count": null,
      "metadata": {
        "id": "FqLBMElKdSuY",
        "outputId": "562d4d9e-2baa-422b-e1e7-0412323d086a"
      },
      "outputs": [
        {
          "data": {
            "text/plain": [
              "<Axes: ylabel='Density'>"
            ]
          },
          "execution_count": 41,
          "metadata": {},
          "output_type": "execute_result"
        },
        {
          "data": {
            "image/png": "[encoded data removed]",
            "text/plain": [
              "<Figure size 640x480 with 1 Axes>"
            ]
          },
          "metadata": {},
          "output_type": "display_data"
        }
      ],
      "source": [
        "df['tenure'].plot(kind= 'kde')"
      ]
    },
    {
      "cell_type": "code",
      "execution_count": null,
      "metadata": {
        "id": "qj8q-ndydSua",
        "outputId": "0cd5f9df-aa80-4a34-eb84-d32d096336d2"
      },
      "outputs": [
        {
          "data": {
            "image/png": "[encoded data removed]",
            "text/plain": [
              "<Figure size 1000x600 with 1 Axes>"
            ]
          },
          "metadata": {},
          "output_type": "display_data"
        }
      ],
      "source": [
        "# Create a box plot to check for outliers\n",
        "plt.figure(figsize=(10, 6))\n",
        "sns.boxplot(data=df,orient='h')\n",
        "plt.title('Box Plot of Services')\n",
        "plt.show()"
      ]
    },
    {
      "cell_type": "markdown",
      "metadata": {
        "id": "WtW-c5vhdSub"
      },
      "source": [
        "### Insights\n",
        "\n",
        "- Tenure:\n",
        "The minimum tenure is 0, and the maximum is 72. To investigate customers with very short or long tenures to understand factors contributing to their behavior.\n",
        "\n",
        "- MonthlyCharges:\n",
        "Monthly charges range from $18.40 to $118.65.To explore customer segments with high or low monthly charges and tailor strategies accordingly."
      ]
    },
    {
      "cell_type": "markdown",
      "metadata": {
        "id": "hjHG1KoXdSud"
      },
      "source": [
        "**2.3.2 Bivariate Analysis:**\n",
        "     Investigate relationships between pairs of variables."
      ]
    },
    {
      "cell_type": "markdown",
      "metadata": {
        "id": "WUq6y3FidSv6"
      },
      "source": [
        "Bivariate Analysis"
      ]
    },
    {
      "cell_type": "code",
      "execution_count": null,
      "metadata": {
        "id": "YH7k0dujdSv8",
        "outputId": "edd0beac-2347-4e9d-94fd-6826d3d0fde2"
      },
      "outputs": [
        {
          "data": {
            "text/html": [
              "<div>\n",
              "<style scoped>\n",
              "    .dataframe tbody tr th:only-of-type {\n",
              "        vertical-align: middle;\n",
              "    }\n",
              "\n",
              "    .dataframe tbody tr th {\n",
              "        vertical-align: top;\n",
              "    }\n",
              "\n",
              "    .dataframe thead th {\n",
              "        text-align: right;\n",
              "    }\n",
              "</style>\n",
              "<table border=\"1\" class=\"dataframe\">\n",
              "  <thead>\n",
              "    <tr style=\"text-align: right;\">\n",
              "      <th></th>\n",
              "      <th>tenure</th>\n",
              "      <th>MonthlyCharges</th>\n",
              "      <th>TotalCharges</th>\n",
              "    </tr>\n",
              "  </thead>\n",
              "  <tbody>\n",
              "    <tr>\n",
              "      <th>tenure</th>\n",
              "      <td>1.000000</td>\n",
              "      <td>0.240645</td>\n",
              "      <td>0.826264</td>\n",
              "    </tr>\n",
              "    <tr>\n",
              "      <th>MonthlyCharges</th>\n",
              "      <td>0.240645</td>\n",
              "      <td>1.000000</td>\n",
              "      <td>0.647007</td>\n",
              "    </tr>\n",
              "    <tr>\n",
              "      <th>TotalCharges</th>\n",
              "      <td>0.826264</td>\n",
              "      <td>0.647007</td>\n",
              "      <td>1.000000</td>\n",
              "    </tr>\n",
              "  </tbody>\n",
              "</table>\n",
              "</div>"
            ],
            "text/plain": [
              "                  tenure  MonthlyCharges  TotalCharges\n",
              "tenure          1.000000        0.240645      0.826264\n",
              "MonthlyCharges  0.240645        1.000000      0.647007\n",
              "TotalCharges    0.826264        0.647007      1.000000"
            ]
          },
          "execution_count": 43,
          "metadata": {},
          "output_type": "execute_result"
        }
      ],
      "source": [
        "correlation = df.corr(numeric_only=True)\n",
        "\n",
        "correlation"
      ]
    },
    {
      "cell_type": "code",
      "execution_count": null,
      "metadata": {
        "id": "45axRDTKdSv-",
        "outputId": "1ca3c423-67dd-489c-ae80-0012e346dcc5"
      },
      "outputs": [
        {
          "data": {
            "text/plain": [
              "<Axes: >"
            ]
          },
          "execution_count": 44,
          "metadata": {},
          "output_type": "execute_result"
        },
        {
          "data": {
            "image/png": "[encoded data removed]",
            "text/plain": [
              "<Figure size 1000x800 with 2 Axes>"
            ]
          },
          "metadata": {},
          "output_type": "display_data"
        }
      ],
      "source": [
        "plt.figure(figsize=(10,8))\n",
        "sns.heatmap(data = correlation,annot = True,cmap = 'coolwarm')"
      ]
    },
    {
      "cell_type": "markdown",
      "metadata": {
        "id": "kUO2WBOudSwA"
      },
      "source": [
        "##### Key insights\n",
        "\n",
        "- The tenure column is correlated with the monthly charges column\n",
        "- Tenure and totalcharges is fairly correlated with the monthly charges"
      ]
    },
    {
      "cell_type": "markdown",
      "metadata": {
        "id": "JSMRxaJidSwB"
      },
      "source": [
        "**2.3.3 Multivariate Analysis:**\n",
        "     Examine interactions between three or more variables."
      ]
    },
    {
      "cell_type": "code",
      "execution_count": null,
      "metadata": {
        "id": "LnnvJ8r_dSwD",
        "outputId": "26859de2-1846-4958-db84-dd965b652091"
      },
      "outputs": [
        {
          "data": {
            "text/plain": [
              "<seaborn.axisgrid.PairGrid at 0x2950bc410>"
            ]
          },
          "execution_count": 73,
          "metadata": {},
          "output_type": "execute_result"
        },
        {
          "data": {
            "image/png": "[encoded data removed]",
            "text/plain": [
              "<Figure size 310.361x250 with 2 Axes>"
            ]
          },
          "metadata": {},
          "output_type": "display_data"
        }
      ],
      "source": [
        "data = df[['gender','SeniorCitizen','MonthlyCharges']]\n",
        "\n",
        "sns.pairplot(data,hue='gender')"
      ]
    },
    {
      "cell_type": "markdown",
      "metadata": {
        "id": "umoXq8ZsdSwE"
      },
      "source": [
        "**2.4 Answering Analytical Questions:**\n",
        "     Visualizations"
      ]
    },
    {
      "cell_type": "markdown",
      "metadata": {
        "id": "8XrA9uRpdSwG"
      },
      "source": [
        "Q1.How do different services (PhoneService, MultipleLines, InternetService, OnlineSecurity, OnlineBackup, etc.) contribute to customer churn?"
      ]
    },
    {
      "cell_type": "code",
      "execution_count": null,
      "metadata": {
        "id": "818qY_TudSwI",
        "outputId": "dc70d3ee-2682-4454-8c1d-4b494ee18aea"
      },
      "outputs": [
        {
          "data": {
            "text/html": [
              "<div>\n",
              "<style scoped>\n",
              "    .dataframe tbody tr th:only-of-type {\n",
              "        vertical-align: middle;\n",
              "    }\n",
              "\n",
              "    .dataframe tbody tr th {\n",
              "        vertical-align: top;\n",
              "    }\n",
              "\n",
              "    .dataframe thead th {\n",
              "        text-align: right;\n",
              "    }\n",
              "</style>\n",
              "<table border=\"1\" class=\"dataframe\">\n",
              "  <thead>\n",
              "    <tr style=\"text-align: right;\">\n",
              "      <th>Churn</th>\n",
              "      <th>No</th>\n",
              "      <th>Yes</th>\n",
              "    </tr>\n",
              "    <tr>\n",
              "      <th>InternetService</th>\n",
              "      <th></th>\n",
              "      <th></th>\n",
              "    </tr>\n",
              "  </thead>\n",
              "  <tbody>\n",
              "    <tr>\n",
              "      <th>DSL</th>\n",
              "      <td>1406</td>\n",
              "      <td>309</td>\n",
              "    </tr>\n",
              "    <tr>\n",
              "      <th>Fiber optic</th>\n",
              "      <td>1296</td>\n",
              "      <td>951</td>\n",
              "    </tr>\n",
              "    <tr>\n",
              "      <th>No</th>\n",
              "      <td>1004</td>\n",
              "      <td>76</td>\n",
              "    </tr>\n",
              "  </tbody>\n",
              "</table>\n",
              "</div>"
            ],
            "text/plain": [
              "Churn              No  Yes\n",
              "InternetService           \n",
              "DSL              1406  309\n",
              "Fiber optic      1296  951\n",
              "No               1004   76"
            ]
          },
          "execution_count": 46,
          "metadata": {},
          "output_type": "execute_result"
        }
      ],
      "source": [
        "churn_counts = df.groupby(['InternetService', 'Churn']).size().unstack()\n",
        "churn_counts"
      ]
    },
    {
      "cell_type": "code",
      "execution_count": null,
      "metadata": {
        "id": "4pDO4cJudSwK",
        "outputId": "abbdd2bb-ec64-44d3-ed51-4a37b26ca633"
      },
      "outputs": [
        {
          "data": {
            "image/png": "[encoded data removed]",
            "text/plain": [
              "<Figure size 1200x500 with 3 Axes>"
            ]
          },
          "metadata": {},
          "output_type": "display_data"
        }
      ],
      "source": [
        "# Plot a pie chart for each internet service category\n",
        "plt.figure(figsize=(12, 5))\n",
        "\n",
        "for i, service_type in enumerate(churn_counts.index):\n",
        "    plt.subplot(1, 3, i + 1)\n",
        "    plt.pie(churn_counts.loc[service_type], labels=churn_counts.columns, autopct='%1.1f%%', startangle=90, colors=['#ff9999', '#66b3ff'])\n",
        "    plt.title(f'Churn Distribution for {service_type}')\n",
        "\n",
        "plt.tight_layout()\n",
        "plt.show()"
      ]
    },
    {
      "cell_type": "markdown",
      "metadata": {
        "id": "9fnA_IqRdSwN"
      },
      "source": [
        "Key Insights and Recommendations\n",
        "- 42% of the customers who churned had subscribed to fiber optic:\n",
        "We recommend that the company to check the fiber optic connection and make sure that customer satisfaction is met"
      ]
    },
    {
      "cell_type": "markdown",
      "metadata": {
        "id": "jGrGXvBGdSwO"
      },
      "source": [
        "Q2.What is the influence of having a partner and dependents on customer churn?"
      ]
    },
    {
      "cell_type": "code",
      "execution_count": null,
      "metadata": {
        "id": "BVw_vyWKdSwP",
        "outputId": "53466316-4897-49dd-ffb6-b0865c7b7309"
      },
      "outputs": [
        {
          "data": {
            "image/png": "[encoded data removed]",
            "text/plain": [
              "<Figure size 640x480 with 2 Axes>"
            ]
          },
          "metadata": {},
          "output_type": "display_data"
        }
      ],
      "source": [
        "sns.set(style=\"whitegrid\")\n",
        "\n",
        "# Plotting Partner distribution\n",
        "plt.subplot(2, 3, 1)\n",
        "sns.countplot(x='Partner', hue='Churn', data=df)\n",
        "\n",
        "# Plotting Dependents distribution\n",
        "plt.subplot(2, 3, 2)\n",
        "sns.countplot(x='Dependents', hue='Churn', data=df)\n",
        "\n",
        "\n",
        "# Adjust layout\n",
        "plt.tight_layout()\n",
        "plt.show()"
      ]
    },
    {
      "cell_type": "markdown",
      "metadata": {
        "id": "6SaetexkdSwR"
      },
      "source": [
        "Key Insights and Recommendations:\n",
        "\n",
        "- The customers with partners are more likely to churn than the customers without partners\n",
        "- Customers with dependants are more likely to churn than the ones without"
      ]
    },
    {
      "cell_type": "markdown",
      "metadata": {
        "id": "QLQbIVOzdSwT"
      },
      "source": [
        "Q3 Which contract type had the most churn?"
      ]
    },
    {
      "cell_type": "code",
      "execution_count": null,
      "metadata": {
        "id": "-y_a4bkqdSwV",
        "outputId": "3523cc9e-c0f4-4865-ef6a-9f37f09fbdb3"
      },
      "outputs": [
        {
          "data": {
            "image/png": "[encoded data removed]",
            "text/plain": [
              "<Figure size 1500x500 with 1 Axes>"
            ]
          },
          "metadata": {},
          "output_type": "display_data"
        }
      ],
      "source": [
        "# Set the style of seaborn for better visualization\n",
        "sns.set(style=\"whitegrid\")\n",
        "\n",
        "# Plotting contract type distribution\n",
        "plt.figure(figsize=(15, 5))\n",
        "\n",
        "plt.subplot(1, 3, 1)\n",
        "sns.countplot(x='Contract', hue='Churn', data=df)\n",
        "plt.title('Contract Type vs. Churn')\n",
        "\n",
        "# Adjust layout\n",
        "plt.tight_layout()\n",
        "plt.show()\n"
      ]
    },
    {
      "cell_type": "markdown",
      "metadata": {
        "id": "Uw98j9NBdSwY"
      },
      "source": [
        "Key Insights and recommendations:\n",
        "- Customers with month to month contract type are likely to churn as compared to customers with long term contracts of one year and above\n",
        "- The company should consider giving incentives to long term contracts to attract more customers to subscribe"
      ]
    },
    {
      "cell_type": "markdown",
      "metadata": {
        "id": "zgaEQ8gqdSwZ"
      },
      "source": [
        "Q4. What is the impact of payment methods on customer churn?"
      ]
    },
    {
      "cell_type": "code",
      "execution_count": null,
      "metadata": {
        "id": "w3S2LpErdSwb",
        "outputId": "7e9f6968-df2e-42dc-8b16-42d46b1885cb"
      },
      "outputs": [
        {
          "data": {
            "image/png": "[encoded data removed]",
            "text/plain": [
              "<Figure size 640x480 with 1 Axes>"
            ]
          },
          "metadata": {},
          "output_type": "display_data"
        }
      ],
      "source": [
        "# Plotting payment method distribution\n",
        "sns.countplot(x='PaymentMethod', hue='Churn', data=df)\n",
        "plt.xticks(rotation=45, ha='right')  # Rotate x-axis labels for better readability\n",
        "plt.title('Payment Method vs. Churn')\n",
        "\n",
        " # Adjust layout\n",
        "plt.tight_layout()\n",
        "plt.show()\n"
      ]
    },
    {
      "cell_type": "markdown",
      "metadata": {
        "id": "OsYO5-SvdSwd"
      },
      "source": [
        "Key Insights:\n",
        "- Most of the customers who churned used the electronic check as their payment method"
      ]
    },
    {
      "cell_type": "markdown",
      "metadata": {
        "id": "aufQopOgdSwf"
      },
      "source": [
        "Q5. Is there a relationship between gender and the churn rate?"
      ]
    },
    {
      "cell_type": "code",
      "execution_count": null,
      "metadata": {
        "id": "RIa55ChKdSwg",
        "outputId": "03b91bda-adb7-40fe-929c-f88c75f3d168"
      },
      "outputs": [
        {
          "data": {
            "text/plain": [
              "gender  Churn\n",
              "Female  No       1823\n",
              "        Yes       661\n",
              "Male    No       1883\n",
              "        Yes       675\n",
              "Name: Churn, dtype: int64"
            ]
          },
          "execution_count": 53,
          "metadata": {},
          "output_type": "execute_result"
        }
      ],
      "source": [
        "df.groupby('gender')['Churn'].value_counts()"
      ]
    },
    {
      "cell_type": "code",
      "execution_count": null,
      "metadata": {
        "id": "Nt5sDwQMdSwi",
        "outputId": "2a266443-a4f0-4313-b7b1-4690db1157ef"
      },
      "outputs": [
        {
          "data": {
            "image/png": "[encoded data removed]",
            "text/plain": [
              "<Figure size 640x480 with 1 Axes>"
            ]
          },
          "metadata": {},
          "output_type": "display_data"
        }
      ],
      "source": [
        "sns.countplot(x='gender', hue='Churn', data=df)\n",
        "\n",
        "# Add labels and title\n",
        "plt.xlabel('Gender')\n",
        "plt.ylabel('Count')\n",
        "plt.title('Churn Rate by Gender')\n",
        "\n",
        "# Show the plot\n",
        "plt.show()"
      ]
    },
    {
      "cell_type": "markdown",
      "metadata": {
        "id": "dXlU0NgydSwk"
      },
      "source": [
        "- The males churned more than the female"
      ]
    },
    {
      "cell_type": "markdown",
      "metadata": {
        "id": "c4drChPddSwl"
      },
      "source": [
        "Checking the overall churn rate"
      ]
    },
    {
      "cell_type": "code",
      "execution_count": null,
      "metadata": {
        "id": "J2te7k8VdSwn",
        "outputId": "de59bfbc-11f2-4ead-81de-2699e3482a08"
      },
      "outputs": [
        {
          "name": "stdout",
          "output_type": "stream",
          "text": [
            "Overall churn rate is 26.49%\n"
          ]
        }
      ],
      "source": [
        "# calculating the no of churned customers\n",
        "churned_customers = df[df['Churn']=='Yes'].shape[0]\n",
        "# overall customers\n",
        "total_customers = df.shape[0]\n",
        "\n",
        "churn_rate = (churned_customers/total_customers) * 100\n",
        "\n",
        "print('Overall churn rate is {:.2f}%'.format (churn_rate))"
      ]
    },
    {
      "cell_type": "markdown",
      "metadata": {
        "id": "6LsNintKdSwp"
      },
      "source": [
        "**2.5  Hypothesis Testing**\n",
        "     "
      ]
    },
    {
      "cell_type": "code",
      "execution_count": null,
      "metadata": {
        "id": "47eWRvSddSws",
        "outputId": "48035975-2fdf-4553-970a-c35ca891d6cd"
      },
      "outputs": [
        {
          "name": "stdout",
          "output_type": "stream",
          "text": [
            "Kruskal-Wallis Test Statistic: 260.6101721522118\n",
            "P-value: 1.2633211648599872e-58\n",
            "There is a significant relationship between Total Charges and customer churn.\n"
          ]
        }
      ],
      "source": [
        "# Remove rows with NaN values in 'TotalCharges'\n",
        "df = df.dropna(subset=['TotalCharges'])\n",
        "\n",
        "# Perform the Kruskal-Wallis test\n",
        "result = stats.kruskal(*[group['TotalCharges'] for name, group in df.groupby('Churn')])\n",
        "\n",
        "# Print the result\n",
        "print(\"Kruskal-Wallis Test Statistic:\", result.statistic)\n",
        "print(\"P-value:\", result.pvalue)\n",
        "\n",
        "# Interpret the result\n",
        "if result.pvalue < 0.05:\n",
        "    print(\"There is a significant relationship between Total Charges and customer churn.\")\n",
        "else:\n",
        "    print(\"There is no significant relationship between Total Charges and customer churn.\")"
      ]
    },
    {
      "cell_type": "markdown",
      "metadata": {
        "id": "1zekcL32dSwv"
      },
      "source": [
        "**Insights :**\n",
        "\n",
        "- Having observed that our p_value is less than the significance level hence we rejected the null hypothesis and conclude that there's a relationship between\n",
        "- Customer churn rate is influenced by the total charges"
      ]
    },
    {
      "cell_type": "markdown",
      "metadata": {
        "id": "c0MLUYFidSww"
      },
      "source": [
        "## 3.0 Data Preparation\n",
        "\n",
        "### Data Cleaning- removing duplicates, handling missing values"
      ]
    },
    {
      "cell_type": "code",
      "execution_count": null,
      "metadata": {
        "id": "MGlzhysOdSwy"
      },
      "outputs": [],
      "source": [
        "# remove customerID column as it won't be relevant\n",
        "df = df.drop('customerID',axis=1)"
      ]
    },
    {
      "cell_type": "code",
      "execution_count": null,
      "metadata": {
        "id": "Hf5sIpLfdSwz",
        "outputId": "472c2985-a4f2-4fe5-d1b5-b56bb9143028"
      },
      "outputs": [
        {
          "data": {
            "text/plain": [
              "gender              0\n",
              "SeniorCitizen       0\n",
              "Partner             0\n",
              "Dependents          0\n",
              "tenure              0\n",
              "PhoneService        0\n",
              "MultipleLines       0\n",
              "InternetService     0\n",
              "OnlineSecurity      0\n",
              "OnlineBackup        0\n",
              "DeviceProtection    0\n",
              "TechSupport         0\n",
              "StreamingTV         0\n",
              "StreamingMovies     0\n",
              "Contract            0\n",
              "PaperlessBilling    0\n",
              "PaymentMethod       0\n",
              "MonthlyCharges      0\n",
              "TotalCharges        8\n",
              "Churn               0\n",
              "dtype: int64"
            ]
          },
          "execution_count": 11,
          "metadata": {},
          "output_type": "execute_result"
        }
      ],
      "source": [
        "# checking for null values in the data\n",
        "df.isna().sum()"
      ]
    },
    {
      "cell_type": "markdown",
      "metadata": {
        "id": "maQPrQQ-dSw1"
      },
      "source": [
        "#### 3.1 Split data into input(X) and target(y) features"
      ]
    },
    {
      "cell_type": "code",
      "execution_count": null,
      "metadata": {
        "id": "QaHZl4-HdSw2"
      },
      "outputs": [],
      "source": [
        "# defining our x and y\n",
        "X = df.drop('Churn', axis=1)\n",
        "y = df['Churn']"
      ]
    },
    {
      "cell_type": "markdown",
      "metadata": {
        "id": "LGWl3qyYdSw5"
      },
      "source": [
        "#### 3.2 Splitting data into training and evaluation"
      ]
    },
    {
      "cell_type": "code",
      "execution_count": null,
      "metadata": {
        "id": "rUzKTLvodSw6"
      },
      "outputs": [],
      "source": [
        "# using train test split to split the data with test size of 0.2\n",
        "X_train,X_test,y_train,y_test = train_test_split(X,y, test_size=0.2,random_state=42,stratify=y)"
      ]
    },
    {
      "cell_type": "markdown",
      "metadata": {
        "id": "fxKOMaVndSw7"
      },
      "source": [
        "#### 3.3 Feature Engineering"
      ]
    },
    {
      "cell_type": "code",
      "execution_count": null,
      "metadata": {
        "id": "SxLX7023dSw9",
        "outputId": "4797d244-3014-4794-dae0-daf1633bfc10"
      },
      "outputs": [
        {
          "data": {
            "text/plain": [
              "Index(['tenure', 'MonthlyCharges', 'TotalCharges'], dtype='object')"
            ]
          },
          "execution_count": 14,
          "metadata": {},
          "output_type": "execute_result"
        }
      ],
      "source": [
        "# selecting the numeric columns\n",
        "numeric_cols = X.select_dtypes(include='number').columns\n",
        "\n",
        "numeric_cols"
      ]
    },
    {
      "cell_type": "code",
      "execution_count": null,
      "metadata": {
        "id": "vBwmR2TadSw_",
        "outputId": "caf6dcaf-463c-41ef-9784-8b69f94aaf6f"
      },
      "outputs": [
        {
          "data": {
            "text/plain": [
              "Index(['gender', 'SeniorCitizen', 'Partner', 'Dependents', 'PhoneService',\n",
              "       'MultipleLines', 'InternetService', 'OnlineSecurity', 'OnlineBackup',\n",
              "       'DeviceProtection', 'TechSupport', 'StreamingTV', 'StreamingMovies',\n",
              "       'Contract', 'PaperlessBilling', 'PaymentMethod'],\n",
              "      dtype='object')"
            ]
          },
          "execution_count": 15,
          "metadata": {},
          "output_type": "execute_result"
        }
      ],
      "source": [
        "# selecting the categorical columns\n",
        "categorical_cols = X.select_dtypes(include='object').columns\n",
        "\n",
        "categorical_cols"
      ]
    },
    {
      "cell_type": "markdown",
      "metadata": {
        "id": "j7h2XbawdSxC"
      },
      "source": [
        "## 4.0 Data Encoding\n",
        "\n",
        "Normalization & Scaling"
      ]
    },
    {
      "cell_type": "markdown",
      "metadata": {
        "id": "_XRr5gjpdSxE"
      },
      "source": [
        "#### 4.1 Creating a Pipeline to preprocess the data"
      ]
    },
    {
      "cell_type": "code",
      "execution_count": null,
      "metadata": {
        "id": "ptXWCIY1dSxF"
      },
      "outputs": [],
      "source": [
        "# creating a pipeline\n",
        "numeric_pipeline = Pipeline(steps=[\n",
        "    ('num_imputer',SimpleImputer(strategy='mean')),\n",
        "    ('scaler ',RobustScaler()),\n",
        "])\n",
        "\n",
        "categorical_pipeline = Pipeline(steps=[\n",
        "    ('cat_imputer',SimpleImputer(strategy='most_frequent')),\n",
        "    ('encoder',OneHotEncoder()),\n",
        "])\n",
        "\n",
        "preprocessor =ColumnTransformer([\n",
        "    ('numerical_transformations',numeric_pipeline,numeric_cols),\n",
        "    ('cat_transformations',categorical_pipeline,categorical_cols)\n",
        "\n",
        "])"
      ]
    },
    {
      "cell_type": "markdown",
      "metadata": {
        "id": "0pWlZwqIdSxI"
      },
      "source": [
        "#### 4.2 Label/Target Encoding"
      ]
    },
    {
      "cell_type": "code",
      "execution_count": null,
      "metadata": {
        "id": "hAXbVoSldSxK"
      },
      "outputs": [],
      "source": [
        "# encoding our target column with label encoder\n",
        "LabelEncoder = LabelEncoder()\n",
        "y_train_encoded = LabelEncoder.fit_transform(y_train)\n",
        "y_test_encoded = LabelEncoder.transform(y_test)"
      ]
    },
    {
      "cell_type": "markdown",
      "metadata": {
        "id": "_xCZmWAjdSxM"
      },
      "source": [
        "## 5.0 Modeling"
      ]
    },
    {
      "cell_type": "markdown",
      "metadata": {
        "id": "IFTHOS5idSxO"
      },
      "source": [
        "#### 5.1 ML Pipeline(Unbalanced Data)"
      ]
    },
    {
      "cell_type": "code",
      "execution_count": null,
      "metadata": {
        "id": "5A-GtjKndSxP",
        "outputId": "3ea3bf8d-76d6-4a17-e487-6d6291e4a07f"
      },
      "outputs": [
        {
          "data": {
            "text/html": [
              "<div>\n",
              "<style scoped>\n",
              "    .dataframe tbody tr th:only-of-type {\n",
              "        vertical-align: middle;\n",
              "    }\n",
              "\n",
              "    .dataframe tbody tr th {\n",
              "        vertical-align: top;\n",
              "    }\n",
              "\n",
              "    .dataframe thead th {\n",
              "        text-align: right;\n",
              "    }\n",
              "</style>\n",
              "<table border=\"1\" class=\"dataframe\">\n",
              "  <thead>\n",
              "    <tr style=\"text-align: right;\">\n",
              "      <th></th>\n",
              "      <th>Model_name</th>\n",
              "      <th>Accuracy</th>\n",
              "      <th>Precision</th>\n",
              "      <th>Recall</th>\n",
              "      <th>F1_score</th>\n",
              "    </tr>\n",
              "  </thead>\n",
              "  <tbody>\n",
              "    <tr>\n",
              "      <th>0</th>\n",
              "      <td>Decision tree</td>\n",
              "      <td>0.728444</td>\n",
              "      <td>0.728444</td>\n",
              "      <td>0.740682</td>\n",
              "      <td>0.733644</td>\n",
              "    </tr>\n",
              "    <tr>\n",
              "      <th>1</th>\n",
              "      <td>SVC</td>\n",
              "      <td>0.804757</td>\n",
              "      <td>0.804757</td>\n",
              "      <td>0.796346</td>\n",
              "      <td>0.798647</td>\n",
              "    </tr>\n",
              "    <tr>\n",
              "      <th>2</th>\n",
              "      <td>Random Forest</td>\n",
              "      <td>0.791873</td>\n",
              "      <td>0.791873</td>\n",
              "      <td>0.781439</td>\n",
              "      <td>0.784169</td>\n",
              "    </tr>\n",
              "    <tr>\n",
              "      <th>3</th>\n",
              "      <td>Naives_Bay</td>\n",
              "      <td>0.649158</td>\n",
              "      <td>0.649158</td>\n",
              "      <td>0.800942</td>\n",
              "      <td>0.667912</td>\n",
              "    </tr>\n",
              "    <tr>\n",
              "      <th>4</th>\n",
              "      <td>Gradient Boosting</td>\n",
              "      <td>0.810704</td>\n",
              "      <td>0.810704</td>\n",
              "      <td>0.803794</td>\n",
              "      <td>0.805960</td>\n",
              "    </tr>\n",
              "  </tbody>\n",
              "</table>\n",
              "</div>"
            ],
            "text/plain": [
              "          Model_name  Accuracy  Precision    Recall  F1_score\n",
              "0      Decision tree  0.728444   0.728444  0.740682  0.733644\n",
              "1                SVC  0.804757   0.804757  0.796346  0.798647\n",
              "2      Random Forest  0.791873   0.791873  0.781439  0.784169\n",
              "3         Naives_Bay  0.649158   0.649158  0.800942  0.667912\n",
              "4  Gradient Boosting  0.810704   0.810704  0.803794  0.805960"
            ]
          },
          "execution_count": 18,
          "metadata": {},
          "output_type": "execute_result"
        }
      ],
      "source": [
        "# instantiating our models and training them with unbalanced data\n",
        "models = [\n",
        "    ('Decision tree',DecisionTreeClassifier(random_state=42)),\n",
        "    ('SVC',SVC(random_state=42,probability=True)),\n",
        "    ('Random Forest',RandomForestClassifier(random_state=42)),\n",
        "    ('Naives_Bay',GaussianNB()),\n",
        "    ('Gradient Boosting',GradientBoostingClassifier()),\n",
        "\n",
        "]\n",
        "# defining the metrics to be fetched\n",
        "unbalanced_metrics = pd.DataFrame(columns=['Model_name','Accuracy','Precision','Recall','F1_score'])\n",
        "for model_name,classifier in models:\n",
        "    pipeline=Pipeline(steps=[\n",
        "        ('preprocessor',preprocessor),\n",
        "        ('classifier',classifier),\n",
        "    ])\n",
        "\n",
        "    pipeline.fit(X_train,y_train_encoded)\n",
        "\n",
        "    # preicting on the X_test\n",
        "    y_pred = pipeline.predict(X_test)\n",
        "\n",
        "    metrics = classification_report(y_test_encoded,y_pred,output_dict=True)\n",
        "\n",
        "    accuracy = metrics['accuracy']\n",
        "    precision = metrics['weighted avg']['precision']\n",
        "    recall = metrics['weighted avg']['recall']\n",
        "    f1_score = metrics['weighted avg']['f1-score']\n",
        "    unbalanced_metrics.loc[len(unbalanced_metrics)]=[model_name,accuracy,recall,precision,f1_score]\n",
        "\n",
        "unbalanced_metrics\n",
        ""
      ]
    },
    {
      "cell_type": "markdown",
      "metadata": {
        "id": "lMeB4-dtdSxR"
      },
      "source": [
        "## 6.0 Evaluation"
      ]
    },
    {
      "cell_type": "markdown",
      "metadata": {
        "id": "WMnRw14BdSxS"
      },
      "source": [
        "#### 6.1 Train and compare data(Random Oversampler)"
      ]
    },
    {
      "cell_type": "code",
      "execution_count": null,
      "metadata": {
        "id": "wuyvVMN0dSxU",
        "outputId": "3dc959f6-24ec-469d-cc1e-43553c5eb0e4"
      },
      "outputs": [
        {
          "data": {
            "text/html": [
              "<div>\n",
              "<style scoped>\n",
              "    .dataframe tbody tr th:only-of-type {\n",
              "        vertical-align: middle;\n",
              "    }\n",
              "\n",
              "    .dataframe tbody tr th {\n",
              "        vertical-align: top;\n",
              "    }\n",
              "\n",
              "    .dataframe thead th {\n",
              "        text-align: right;\n",
              "    }\n",
              "</style>\n",
              "<table border=\"1\" class=\"dataframe\">\n",
              "  <thead>\n",
              "    <tr style=\"text-align: right;\">\n",
              "      <th></th>\n",
              "      <th>Model_name</th>\n",
              "      <th>Accuracy</th>\n",
              "      <th>Precision</th>\n",
              "      <th>Recall</th>\n",
              "      <th>F1_score</th>\n",
              "    </tr>\n",
              "  </thead>\n",
              "  <tbody>\n",
              "    <tr>\n",
              "      <th>0</th>\n",
              "      <td>Decision tree</td>\n",
              "      <td>0.719524</td>\n",
              "      <td>0.719524</td>\n",
              "      <td>0.719861</td>\n",
              "      <td>0.719692</td>\n",
              "    </tr>\n",
              "    <tr>\n",
              "      <th>1</th>\n",
              "      <td>SVC</td>\n",
              "      <td>0.744301</td>\n",
              "      <td>0.744301</td>\n",
              "      <td>0.793788</td>\n",
              "      <td>0.757057</td>\n",
              "    </tr>\n",
              "    <tr>\n",
              "      <th>2</th>\n",
              "      <td>Random Forest</td>\n",
              "      <td>0.788900</td>\n",
              "      <td>0.788900</td>\n",
              "      <td>0.787170</td>\n",
              "      <td>0.787993</td>\n",
              "    </tr>\n",
              "    <tr>\n",
              "      <th>3</th>\n",
              "      <td>Naives_Bay</td>\n",
              "      <td>0.644202</td>\n",
              "      <td>0.644202</td>\n",
              "      <td>0.799432</td>\n",
              "      <td>0.662961</td>\n",
              "    </tr>\n",
              "    <tr>\n",
              "      <th>4</th>\n",
              "      <td>Gradient Boosting</td>\n",
              "      <td>0.761150</td>\n",
              "      <td>0.761150</td>\n",
              "      <td>0.812999</td>\n",
              "      <td>0.773387</td>\n",
              "    </tr>\n",
              "  </tbody>\n",
              "</table>\n",
              "</div>"
            ],
            "text/plain": [
              "          Model_name  Accuracy  Precision    Recall  F1_score\n",
              "0      Decision tree  0.719524   0.719524  0.719861  0.719692\n",
              "1                SVC  0.744301   0.744301  0.793788  0.757057\n",
              "2      Random Forest  0.788900   0.788900  0.787170  0.787993\n",
              "3         Naives_Bay  0.644202   0.644202  0.799432  0.662961\n",
              "4  Gradient Boosting  0.761150   0.761150  0.812999  0.773387"
            ]
          },
          "execution_count": 19,
          "metadata": {},
          "output_type": "execute_result"
        }
      ],
      "source": [
        "# using over sampling method on the dataset to balance your dataset\n",
        "sampler = RandomOverSampler(random_state=42)\n",
        "X_train_resampled,y_train_resampled = sampler.fit_resample(X_train,y_train_encoded)\n",
        "\n",
        "balanced_metrics = pd.DataFrame(columns=['Model_name','Accuracy','Precision','Recall','F1_score'])\n",
        "# looping over the models\n",
        "for model_name,classifier in models:\n",
        "    pipeline=Pipeline(steps=[\n",
        "        ('preprocessor',preprocessor),\n",
        "        ('classifier',classifier),\n",
        "    ])\n",
        "\n",
        "    pipeline.fit(X_train_resampled,y_train_resampled)\n",
        "\n",
        "    # predicting on the testing dataset\n",
        "    oversampler_y_pred = pipeline.predict(X_test)\n",
        "\n",
        "    balanced_result = classification_report(y_test_encoded,oversampler_y_pred ,output_dict=True)\n",
        "\n",
        "    accuracy = balanced_result['accuracy']\n",
        "    precision = balanced_result['weighted avg']['precision']\n",
        "    recall = balanced_result['weighted avg']['recall']\n",
        "    f1_score = balanced_result['weighted avg']['f1-score']\n",
        "    balanced_metrics.loc[len(balanced_metrics)]=[model_name,accuracy,recall,precision,f1_score]\n",
        "\n",
        "balanced_metrics"
      ]
    },
    {
      "cell_type": "markdown",
      "metadata": {
        "id": "VkMvvhGndSxW"
      },
      "source": [
        "#### 6.2 Train and balance dataset on SMote"
      ]
    },
    {
      "cell_type": "code",
      "execution_count": null,
      "metadata": {
        "id": "RvX93Z6qdSxY",
        "outputId": "69120301-9f7f-4a8a-ea6a-b1e57688df61"
      },
      "outputs": [
        {
          "data": {
            "text/html": [
              "<div>\n",
              "<style scoped>\n",
              "    .dataframe tbody tr th:only-of-type {\n",
              "        vertical-align: middle;\n",
              "    }\n",
              "\n",
              "    .dataframe tbody tr th {\n",
              "        vertical-align: top;\n",
              "    }\n",
              "\n",
              "    .dataframe thead th {\n",
              "        text-align: right;\n",
              "    }\n",
              "</style>\n",
              "<table border=\"1\" class=\"dataframe\">\n",
              "  <thead>\n",
              "    <tr style=\"text-align: right;\">\n",
              "      <th></th>\n",
              "      <th>Model_name</th>\n",
              "      <th>Accuracy</th>\n",
              "      <th>Precision</th>\n",
              "      <th>Recall</th>\n",
              "      <th>F1_score</th>\n",
              "    </tr>\n",
              "  </thead>\n",
              "  <tbody>\n",
              "    <tr>\n",
              "      <th>0</th>\n",
              "      <td>Decision tree</td>\n",
              "      <td>0.730426</td>\n",
              "      <td>0.730426</td>\n",
              "      <td>0.745458</td>\n",
              "      <td>0.736568</td>\n",
              "    </tr>\n",
              "    <tr>\n",
              "      <th>1</th>\n",
              "      <td>SVC</td>\n",
              "      <td>0.770069</td>\n",
              "      <td>0.770069</td>\n",
              "      <td>0.800582</td>\n",
              "      <td>0.779228</td>\n",
              "    </tr>\n",
              "    <tr>\n",
              "      <th>2</th>\n",
              "      <td>Random Forest</td>\n",
              "      <td>0.779980</td>\n",
              "      <td>0.779980</td>\n",
              "      <td>0.779456</td>\n",
              "      <td>0.779715</td>\n",
              "    </tr>\n",
              "    <tr>\n",
              "      <th>3</th>\n",
              "      <td>Naives_Bay</td>\n",
              "      <td>0.667988</td>\n",
              "      <td>0.667988</td>\n",
              "      <td>0.799600</td>\n",
              "      <td>0.686845</td>\n",
              "    </tr>\n",
              "    <tr>\n",
              "      <th>4</th>\n",
              "      <td>Gradient Boosting</td>\n",
              "      <td>0.786918</td>\n",
              "      <td>0.786918</td>\n",
              "      <td>0.800062</td>\n",
              "      <td>0.791866</td>\n",
              "    </tr>\n",
              "  </tbody>\n",
              "</table>\n",
              "</div>"
            ],
            "text/plain": [
              "          Model_name  Accuracy  Precision    Recall  F1_score\n",
              "0      Decision tree  0.730426   0.730426  0.745458  0.736568\n",
              "1                SVC  0.770069   0.770069  0.800582  0.779228\n",
              "2      Random Forest  0.779980   0.779980  0.779456  0.779715\n",
              "3         Naives_Bay  0.667988   0.667988  0.799600  0.686845\n",
              "4  Gradient Boosting  0.786918   0.786918  0.800062  0.791866"
            ]
          },
          "execution_count": 20,
          "metadata": {},
          "output_type": "execute_result"
        }
      ],
      "source": [
        "all_pipeline ={}\n",
        "smote_df = pd.DataFrame(columns=['Model_name','Accuracy','Precision','Recall','F1_score'])\n",
        "for model_name,classifier in models:\n",
        "    pipeline=imbpipeline(steps=[\n",
        "        ('preprocessor',preprocessor),\n",
        "        ('smote',SMOTE(random_state=42)),\n",
        "        ('classifier',classifier),\n",
        "    ])\n",
        "\n",
        "    pipeline.fit(X_train,y_train_encoded)\n",
        "\n",
        "    # predicting on the testing dataset\n",
        "    smote_y_pred = pipeline.predict(X_test)\n",
        "    all_pipeline[model_name] = pipeline\n",
        "    smote_dict = classification_report(y_test_encoded,smote_y_pred,output_dict=True)\n",
        "\n",
        "    accuracy = smote_dict['accuracy']\n",
        "    precision = smote_dict['weighted avg']['precision']\n",
        "    recall = smote_dict['weighted avg']['recall']\n",
        "    f1_score = smote_dict['weighted avg']['f1-score']\n",
        "    smote_df.loc[len(smote_df)]=[model_name,accuracy,recall,precision,f1_score]\n",
        "\n",
        "smote_df"
      ]
    },
    {
      "cell_type": "markdown",
      "metadata": {
        "id": "jWAQIXo6dSxa"
      },
      "source": [
        "#### 6.3 Train Data on Feature Importance and Selection"
      ]
    },
    {
      "cell_type": "code",
      "execution_count": null,
      "metadata": {
        "id": "6SwDVz1zdSxc",
        "outputId": "f3d5a257-a034-45f5-ef2a-08f9985b99e7"
      },
      "outputs": [
        {
          "data": {
            "text/html": [
              "<div>\n",
              "<style scoped>\n",
              "    .dataframe tbody tr th:only-of-type {\n",
              "        vertical-align: middle;\n",
              "    }\n",
              "\n",
              "    .dataframe tbody tr th {\n",
              "        vertical-align: top;\n",
              "    }\n",
              "\n",
              "    .dataframe thead th {\n",
              "        text-align: right;\n",
              "    }\n",
              "</style>\n",
              "<table border=\"1\" class=\"dataframe\">\n",
              "  <thead>\n",
              "    <tr style=\"text-align: right;\">\n",
              "      <th></th>\n",
              "      <th>Model_name</th>\n",
              "      <th>Accuracy</th>\n",
              "      <th>Precision</th>\n",
              "      <th>Recall</th>\n",
              "      <th>F1_score</th>\n",
              "    </tr>\n",
              "  </thead>\n",
              "  <tbody>\n",
              "    <tr>\n",
              "      <th>0</th>\n",
              "      <td>Decision tree</td>\n",
              "      <td>0.736373</td>\n",
              "      <td>0.736373</td>\n",
              "      <td>0.756285</td>\n",
              "      <td>0.743926</td>\n",
              "    </tr>\n",
              "    <tr>\n",
              "      <th>1</th>\n",
              "      <td>SVC</td>\n",
              "      <td>0.757185</td>\n",
              "      <td>0.757185</td>\n",
              "      <td>0.792999</td>\n",
              "      <td>0.767629</td>\n",
              "    </tr>\n",
              "    <tr>\n",
              "      <th>2</th>\n",
              "      <td>Random Forest</td>\n",
              "      <td>0.762141</td>\n",
              "      <td>0.762141</td>\n",
              "      <td>0.767480</td>\n",
              "      <td>0.764559</td>\n",
              "    </tr>\n",
              "    <tr>\n",
              "      <th>3</th>\n",
              "      <td>Naives_Bay</td>\n",
              "      <td>0.718533</td>\n",
              "      <td>0.718533</td>\n",
              "      <td>0.802425</td>\n",
              "      <td>0.734872</td>\n",
              "    </tr>\n",
              "    <tr>\n",
              "      <th>4</th>\n",
              "      <td>Gradient Boosting</td>\n",
              "      <td>0.772052</td>\n",
              "      <td>0.772052</td>\n",
              "      <td>0.797710</td>\n",
              "      <td>0.780255</td>\n",
              "    </tr>\n",
              "  </tbody>\n",
              "</table>\n",
              "</div>"
            ],
            "text/plain": [
              "          Model_name  Accuracy  Precision    Recall  F1_score\n",
              "0      Decision tree  0.736373   0.736373  0.756285  0.743926\n",
              "1                SVC  0.757185   0.757185  0.792999  0.767629\n",
              "2      Random Forest  0.762141   0.762141  0.767480  0.764559\n",
              "3         Naives_Bay  0.718533   0.718533  0.802425  0.734872\n",
              "4  Gradient Boosting  0.772052   0.772052  0.797710  0.780255"
            ]
          },
          "execution_count": 21,
          "metadata": {},
          "output_type": "execute_result"
        }
      ],
      "source": [
        "# using kbest to select the best features\n",
        "selection = SelectKBest(mutual_info_classif,k=10)\n",
        "\n",
        "fi_smote_df = pd.DataFrame(columns=['Model_name','Accuracy','Precision','Recall','F1_score'])\n",
        "\n",
        "all_pipeline ={}\n",
        "for model_name,classifier in models:\n",
        "    pipeline=imbpipeline(steps=[\n",
        "        ('preprocessor',preprocessor),\n",
        "        ('smote',SMOTE(random_state=42)),\n",
        "        ('feature_selection',selection),\n",
        "        ('classifier',classifier),\n",
        "\n",
        "    ])\n",
        "\n",
        "    pipeline.fit(X_train,y_train_encoded)\n",
        "\n",
        "    fi_y_pred = pipeline.predict(X_test)\n",
        "\n",
        "    all_pipeline[model_name] = pipeline\n",
        "\n",
        "    fi_smote_dict = classification_report(y_test_encoded,fi_y_pred,output_dict=True)\n",
        "\n",
        "    accuracy = fi_smote_dict['accuracy']\n",
        "    precision = fi_smote_dict['weighted avg']['precision']\n",
        "    recall = fi_smote_dict['weighted avg']['recall']\n",
        "    f1_score = fi_smote_dict['weighted avg']['f1-score']\n",
        "    fi_smote_df.loc[len(fi_smote_df)]=[model_name,accuracy,recall,precision,f1_score]\n",
        "\n",
        "fi_smote_df"
      ]
    },
    {
      "cell_type": "markdown",
      "metadata": {
        "id": "nhZPho7odSxf"
      },
      "source": [
        "#### 6.4 Visualize ROC Curve"
      ]
    },
    {
      "cell_type": "code",
      "execution_count": null,
      "metadata": {
        "id": "8jW4qHqXdSxg",
        "outputId": "6979eb45-9ed7-4567-903e-3e23289d61f7"
      },
      "outputs": [
        {
          "data": {
            "image/png": "[encoded data removed]",
            "text/plain": [
              "<Figure size 800x800 with 1 Axes>"
            ]
          },
          "metadata": {},
          "output_type": "display_data"
        }
      ],
      "source": [
        "# Plot ROC curve\n",
        "fig,ax = plt.subplots(figsize=(8,8))\n",
        "roc_auc_curve_data = {}\n",
        "for model_name,classifier in models:\n",
        "    pipeline=imbpipeline(steps=[\n",
        "        ('preprocessor',preprocessor),\n",
        "        ('smote',SMOTE(random_state=42)),\n",
        "        ('feature_selection',selection),\n",
        "        ('classifier',classifier),\n",
        "\n",
        "    ])\n",
        "    # fitting our pipeline with train data\n",
        "    pipeline.fit(X_train,y_train_encoded)\n",
        "\n",
        "    y_score = pipeline.predict_proba(X_test)[:,1]\n",
        "    fpr,tpr,threshold= roc_curve(y_test_encoded,y_score)\n",
        "    roc_auc = auc(fpr,tpr)\n",
        "\n",
        "    roc_auc_curve_df = pd.DataFrame({'false positive rate':fpr,'True positive rate':tpr,'Threshold':threshold})\n",
        "    roc_auc_curve_data[model_name] = roc_auc_curve_df\n",
        "\n",
        "    ax.plot(fpr,tpr,label =f'{model_name}(AUC={roc_auc:.2f})')\n",
        "    ax.plot([0, 1], [0, 1], color='navy', linestyle='--')\n",
        "plt.xlabel('False Positive Rate')\n",
        "plt.ylabel('True Positive Rate')\n",
        "plt.title('Receiver Operating Characteristics ROC Curve')\n",
        "plt.legend(loc=\"lower right\")\n",
        "plt.show()"
      ]
    },
    {
      "cell_type": "markdown",
      "metadata": {
        "id": "X2FXiSaFdSxj"
      },
      "source": [
        "- From the curve we can see that gradient boosting classifier covered the most area with an auc of 0.85, it is the best performing model so far"
      ]
    },
    {
      "cell_type": "markdown",
      "metadata": {
        "id": "cmk2mEN5dSxl"
      },
      "source": [
        "### 6.5 Confusion matrix"
      ]
    },
    {
      "cell_type": "code",
      "execution_count": null,
      "metadata": {
        "id": "oyL1fV9idSxm",
        "outputId": "cef21378-7502-4e0b-ccff-f8b64d360acd"
      },
      "outputs": [
        {
          "data": {
            "text/plain": [
              "array([[585, 157],\n",
              "       [ 73, 194]])"
            ]
          },
          "execution_count": 23,
          "metadata": {},
          "output_type": "execute_result"
        }
      ],
      "source": [
        "# using the best performing pipelime to predict on the data\n",
        "gradient_pipeline = all_pipeline['Gradient Boosting']\n",
        "\n",
        "grad_y_pred =gradient_pipeline.predict(X_test)\n",
        "matrix = confusion_matrix(y_test_encoded, grad_y_pred)\n",
        "matrix"
      ]
    },
    {
      "cell_type": "code",
      "execution_count": null,
      "metadata": {
        "id": "50I0ZtuDdSxp",
        "outputId": "fea9719e-33e0-4019-e4ff-d0a27f4b0bb7"
      },
      "outputs": [
        {
          "data": {
            "text/plain": [
              "<Axes: >"
            ]
          },
          "execution_count": 25,
          "metadata": {},
          "output_type": "execute_result"
        },
        {
          "data": {
            "image/png": "[encoded data removed]",
            "text/plain": [
              "<Figure size 640x480 with 2 Axes>"
            ]
          },
          "metadata": {},
          "output_type": "display_data"
        }
      ],
      "source": [
        "# printing the confusion matrix\n",
        "sns.heatmap(data=matrix,annot=True,fmt='d',cmap='coolwarm')"
      ]
    },
    {
      "cell_type": "markdown",
      "metadata": {
        "id": "VJVCympwdSxs"
      },
      "source": [
        "### Setting threshold"
      ]
    },
    {
      "cell_type": "code",
      "execution_count": null,
      "metadata": {
        "id": "1xVCRkqsdSxu",
        "outputId": "a9c5ecb1-52b2-44fd-b3e7-86d62005cd9f"
      },
      "outputs": [
        {
          "data": {
            "text/plain": [
              "{'Decision tree':    false positive rate  True positive rate  Threshold\n",
              " 0             0.000000            0.000000        inf\n",
              " 1             0.219677            0.573034   1.000000\n",
              " 2             0.222372            0.576779   0.666667\n",
              " 3             0.222372            0.580524   0.555556\n",
              " 4             0.223720            0.595506   0.500000\n",
              " 5             0.225067            0.599251   0.250000\n",
              " 6             1.000000            1.000000   0.000000,\n",
              " 'SVC':      false positive rate  True positive rate  Threshold\n",
              " 0               0.000000            0.000000        inf\n",
              " 1               0.000000            0.003745   0.871655\n",
              " 2               0.000000            0.026217   0.858407\n",
              " 3               0.001348            0.026217   0.855587\n",
              " 4               0.001348            0.041199   0.851791\n",
              " ..                   ...                 ...        ...\n",
              " 278             0.950135            0.992509   0.066989\n",
              " 279             0.950135            0.996255   0.066539\n",
              " 280             0.982480            0.996255   0.051797\n",
              " 281             0.982480            1.000000   0.050844\n",
              " 282             1.000000            1.000000   0.031741\n",
              " \n",
              " [283 rows x 3 columns],\n",
              " 'Random Forest':      false positive rate  True positive rate  Threshold\n",
              " 0               0.000000            0.000000        inf\n",
              " 1               0.010782            0.078652   1.000000\n",
              " 2               0.012129            0.104869   0.990000\n",
              " 3               0.018868            0.142322   0.980000\n",
              " 4               0.018868            0.149813   0.970333\n",
              " ..                   ...                 ...        ...\n",
              " 119             0.648248            0.970037   0.026667\n",
              " 120             0.690027            0.981273   0.020000\n",
              " 121             0.690027            0.985019   0.016667\n",
              " 122             0.731806            0.992509   0.010000\n",
              " 123             1.000000            1.000000   0.000000\n",
              " \n",
              " [124 rows x 3 columns],\n",
              " 'Naives_Bay':      false positive rate  True positive rate     Threshold\n",
              " 0               0.000000            0.000000           inf\n",
              " 1               0.000000            0.003745  9.998769e-01\n",
              " 2               0.000000            0.011236  9.998748e-01\n",
              " 3               0.001348            0.011236  9.998743e-01\n",
              " 4               0.001348            0.022472  9.998695e-01\n",
              " ..                   ...                 ...           ...\n",
              " 275             0.866577            1.000000  2.862810e-18\n",
              " 276             0.869272            1.000000  2.768098e-18\n",
              " 277             0.963612            1.000000  3.256469e-19\n",
              " 278             0.966307            1.000000  2.994361e-19\n",
              " 279             1.000000            1.000000  1.154778e-19\n",
              " \n",
              " [280 rows x 3 columns],\n",
              " 'Gradient Boosting':      false positive rate  True positive rate  Threshold\n",
              " 0               0.000000            0.000000        inf\n",
              " 1               0.000000            0.003745   0.946989\n",
              " 2               0.000000            0.011236   0.936188\n",
              " 3               0.001348            0.014981   0.934692\n",
              " 4               0.001348            0.018727   0.924796\n",
              " ..                   ...                 ...        ...\n",
              " 366             0.985175            1.000000   0.013951\n",
              " 367             0.987871            1.000000   0.013190\n",
              " 368             0.991914            1.000000   0.011984\n",
              " 369             0.997305            1.000000   0.011899\n",
              " 370             1.000000            1.000000   0.010796\n",
              " \n",
              " [371 rows x 3 columns]}"
            ]
          },
          "execution_count": 26,
          "metadata": {},
          "output_type": "execute_result"
        }
      ],
      "source": [
        "# checking the fpr,tpr and threshold\n",
        "roc_auc_curve_data"
      ]
    },
    {
      "cell_type": "code",
      "execution_count": null,
      "metadata": {
        "id": "gFTmAEyAdSxw"
      },
      "outputs": [],
      "source": [
        "# setting threshold and using the threshold to predict on X_test\n",
        "threshold = 0.11\n",
        "y_pred_proba = gradient_pipeline.predict_proba(X_test)[:, 1]\n",
        "binary_prediction = (y_pred_proba > threshold)\n",
        "threshold_matrix = confusion_matrix(y_test_encoded,binary_prediction)\n"
      ]
    },
    {
      "cell_type": "code",
      "execution_count": null,
      "metadata": {
        "id": "SXl-LI1PdSxy",
        "outputId": "6927e497-54f9-4817-ab2c-bbdf78065c31"
      },
      "outputs": [
        {
          "data": {
            "text/plain": [
              "<Axes: >"
            ]
          },
          "execution_count": 28,
          "metadata": {},
          "output_type": "execute_result"
        },
        {
          "data": {
            "image/png": "[encoded data removed]",
            "text/plain": [
              "<Figure size 640x480 with 2 Axes>"
            ]
          },
          "metadata": {},
          "output_type": "display_data"
        }
      ],
      "source": [
        "# printing confusion matrix after setting the threshold\n",
        "sns.heatmap(data=threshold_matrix,annot=True,fmt='d',cmap='coolwarm')"
      ]
    },
    {
      "cell_type": "markdown",
      "metadata": {
        "id": "rGimcP2tdSx0"
      },
      "source": [
        "#### 6.5 Hyperparameter Tuning"
      ]
    },
    {
      "cell_type": "markdown",
      "metadata": {
        "id": "mYD8dYr9dSx1"
      },
      "source": [
        "Create a dictionary of tuning parameters (hyperparameters)"
      ]
    },
    {
      "cell_type": "code",
      "execution_count": null,
      "metadata": {
        "id": "y6EJCopddSx3",
        "outputId": "9d3941b8-26e2-4cd2-8285-f7dab105ff7c"
      },
      "outputs": [
        {
          "data": {
            "text/html": [
              "<style>#sk-container-id-2 {color: black;}#sk-container-id-2 pre{padding: 0;}#sk-container-id-2 div.sk-toggleable {background-color: white;}#sk-container-id-2 label.sk-toggleable__label {cursor: pointer;display: block;width: 100%;margin-bottom: 0;padding: 0.3em;box-sizing: border-box;text-align: center;}#sk-container-id-2 label.sk-toggleable__label-arrow:before {content: \"▸\";float: left;margin-right: 0.25em;color: #696969;}#sk-container-id-2 label.sk-toggleable__label-arrow:hover:before {color: black;}#sk-container-id-2 div.sk-estimator:hover label.sk-toggleable__label-arrow:before {color: black;}#sk-container-id-2 div.sk-toggleable__content {max-height: 0;max-width: 0;overflow: hidden;text-align: left;background-color: #f0f8ff;}#sk-container-id-2 div.sk-toggleable__content pre {margin: 0.2em;color: black;border-radius: 0.25em;background-color: #f0f8ff;}#sk-container-id-2 input.sk-toggleable__control:checked~div.sk-toggleable__content {max-height: 200px;max-width: 100%;overflow: auto;}#sk-container-id-2 input.sk-toggleable__control:checked~label.sk-toggleable__label-arrow:before {content: \"▾\";}#sk-container-id-2 div.sk-estimator input.sk-toggleable__control:checked~label.sk-toggleable__label {background-color: #d4ebff;}#sk-container-id-2 div.sk-label input.sk-toggleable__control:checked~label.sk-toggleable__label {background-color: #d4ebff;}#sk-container-id-2 input.sk-hidden--visually {border: 0;clip: rect(1px 1px 1px 1px);clip: rect(1px, 1px, 1px, 1px);height: 1px;margin: -1px;overflow: hidden;padding: 0;position: absolute;width: 1px;}#sk-container-id-2 div.sk-estimator {font-family: monospace;background-color: #f0f8ff;border: 1px dotted black;border-radius: 0.25em;box-sizing: border-box;margin-bottom: 0.5em;}#sk-container-id-2 div.sk-estimator:hover {background-color: #d4ebff;}#sk-container-id-2 div.sk-parallel-item::after {content: \"\";width: 100%;border-bottom: 1px solid gray;flex-grow: 1;}#sk-container-id-2 div.sk-label:hover label.sk-toggleable__label {background-color: #d4ebff;}#sk-container-id-2 div.sk-serial::before {content: \"\";position: absolute;border-left: 1px solid gray;box-sizing: border-box;top: 0;bottom: 0;left: 50%;z-index: 0;}#sk-container-id-2 div.sk-serial {display: flex;flex-direction: column;align-items: center;background-color: white;padding-right: 0.2em;padding-left: 0.2em;position: relative;}#sk-container-id-2 div.sk-item {position: relative;z-index: 1;}#sk-container-id-2 div.sk-parallel {display: flex;align-items: stretch;justify-content: center;background-color: white;position: relative;}#sk-container-id-2 div.sk-item::before, #sk-container-id-2 div.sk-parallel-item::before {content: \"\";position: absolute;border-left: 1px solid gray;box-sizing: border-box;top: 0;bottom: 0;left: 50%;z-index: -1;}#sk-container-id-2 div.sk-parallel-item {display: flex;flex-direction: column;z-index: 1;position: relative;background-color: white;}#sk-container-id-2 div.sk-parallel-item:first-child::after {align-self: flex-end;width: 50%;}#sk-container-id-2 div.sk-parallel-item:last-child::after {align-self: flex-start;width: 50%;}#sk-container-id-2 div.sk-parallel-item:only-child::after {width: 0;}#sk-container-id-2 div.sk-dashed-wrapped {border: 1px dashed gray;margin: 0 0.4em 0.5em 0.4em;box-sizing: border-box;padding-bottom: 0.4em;background-color: white;}#sk-container-id-2 div.sk-label label {font-family: monospace;font-weight: bold;display: inline-block;line-height: 1.2em;}#sk-container-id-2 div.sk-label-container {text-align: center;}#sk-container-id-2 div.sk-container {/* jupyter's `normalize.less` sets `[hidden] { display: none; }` but bootstrap.min.css set `[hidden] { display: none !important; }` so we also need the `!important` here to be able to override the default hidden behavior on the sphinx rendered scikit-learn.org. See: https://github.com/scikit-learn/scikit-learn/issues/21755 */display: inline-block !important;position: relative;}#sk-container-id-2 div.sk-text-repr-fallback {display: none;}</style><div id=\"sk-container-id-2\" class=\"sk-top-container\"><div class=\"sk-text-repr-fallback\"><pre>GridSearchCV(cv=5,\n",
              "             estimator=Pipeline(steps=[(&#x27;preprocessor&#x27;,\n",
              "                                        ColumnTransformer(transformers=[(&#x27;numerical_transformations&#x27;,\n",
              "                                                                         Pipeline(steps=[(&#x27;num_imputer&#x27;,\n",
              "                                                                                          SimpleImputer()),\n",
              "                                                                                         (&#x27;scaler &#x27;,\n",
              "                                                                                          RobustScaler())]),\n",
              "                                                                         Index([&#x27;tenure&#x27;, &#x27;MonthlyCharges&#x27;, &#x27;TotalCharges&#x27;], dtype=&#x27;object&#x27;)),\n",
              "                                                                        (&#x27;cat_transformations&#x27;,\n",
              "                                                                         Pipeline(steps=[(&#x27;cat_imputer&#x27;,\n",
              "                                                                                          SimpleImputer(strategy=&#x27;most_freq...\n",
              "      dtype=&#x27;object&#x27;))])),\n",
              "                                       (&#x27;smote&#x27;, SMOTE(random_state=42)),\n",
              "                                       (&#x27;feature_selection&#x27;,\n",
              "                                        SelectKBest(score_func=&lt;function mutual_info_classif at 0x1689e1620&gt;)),\n",
              "                                       (&#x27;classifier&#x27;,\n",
              "                                        GradientBoostingClassifier())]),\n",
              "             param_grid={&#x27;classifier__max_depth&#x27;: [None, 10, 20],\n",
              "                         &#x27;classifier__min_samples_split&#x27;: [2, 5, 10],\n",
              "                         &#x27;classifier__n_estimators&#x27;: [5, 10, 15],\n",
              "                         &#x27;feature_selection__k&#x27;: [5, 10, 15]},\n",
              "             scoring=&#x27;f1&#x27;)</pre><b>In a Jupyter environment, please rerun this cell to show the HTML representation or trust the notebook. <br />On GitHub, the HTML representation is unable to render, please try loading this page with nbviewer.org.</b></div><div class=\"sk-container\" hidden><div class=\"sk-item sk-dashed-wrapped\"><div class=\"sk-label-container\"><div class=\"sk-label sk-toggleable\"><input class=\"sk-toggleable__control sk-hidden--visually\" id=\"sk-estimator-id-13\" type=\"checkbox\" ><label for=\"sk-estimator-id-13\" class=\"sk-toggleable__label sk-toggleable__label-arrow\">GridSearchCV</label><div class=\"sk-toggleable__content\"><pre>GridSearchCV(cv=5,\n",
              "             estimator=Pipeline(steps=[(&#x27;preprocessor&#x27;,\n",
              "                                        ColumnTransformer(transformers=[(&#x27;numerical_transformations&#x27;,\n",
              "                                                                         Pipeline(steps=[(&#x27;num_imputer&#x27;,\n",
              "                                                                                          SimpleImputer()),\n",
              "                                                                                         (&#x27;scaler &#x27;,\n",
              "                                                                                          RobustScaler())]),\n",
              "                                                                         Index([&#x27;tenure&#x27;, &#x27;MonthlyCharges&#x27;, &#x27;TotalCharges&#x27;], dtype=&#x27;object&#x27;)),\n",
              "                                                                        (&#x27;cat_transformations&#x27;,\n",
              "                                                                         Pipeline(steps=[(&#x27;cat_imputer&#x27;,\n",
              "                                                                                          SimpleImputer(strategy=&#x27;most_freq...\n",
              "      dtype=&#x27;object&#x27;))])),\n",
              "                                       (&#x27;smote&#x27;, SMOTE(random_state=42)),\n",
              "                                       (&#x27;feature_selection&#x27;,\n",
              "                                        SelectKBest(score_func=&lt;function mutual_info_classif at 0x1689e1620&gt;)),\n",
              "                                       (&#x27;classifier&#x27;,\n",
              "                                        GradientBoostingClassifier())]),\n",
              "             param_grid={&#x27;classifier__max_depth&#x27;: [None, 10, 20],\n",
              "                         &#x27;classifier__min_samples_split&#x27;: [2, 5, 10],\n",
              "                         &#x27;classifier__n_estimators&#x27;: [5, 10, 15],\n",
              "                         &#x27;feature_selection__k&#x27;: [5, 10, 15]},\n",
              "             scoring=&#x27;f1&#x27;)</pre></div></div></div><div class=\"sk-parallel\"><div class=\"sk-parallel-item\"><div class=\"sk-item\"><div class=\"sk-label-container\"><div class=\"sk-label sk-toggleable\"><input class=\"sk-toggleable__control sk-hidden--visually\" id=\"sk-estimator-id-14\" type=\"checkbox\" ><label for=\"sk-estimator-id-14\" class=\"sk-toggleable__label sk-toggleable__label-arrow\">estimator: Pipeline</label><div class=\"sk-toggleable__content\"><pre>Pipeline(steps=[(&#x27;preprocessor&#x27;,\n",
              "                 ColumnTransformer(transformers=[(&#x27;numerical_transformations&#x27;,\n",
              "                                                  Pipeline(steps=[(&#x27;num_imputer&#x27;,\n",
              "                                                                   SimpleImputer()),\n",
              "                                                                  (&#x27;scaler &#x27;,\n",
              "                                                                   RobustScaler())]),\n",
              "                                                  Index([&#x27;tenure&#x27;, &#x27;MonthlyCharges&#x27;, &#x27;TotalCharges&#x27;], dtype=&#x27;object&#x27;)),\n",
              "                                                 (&#x27;cat_transformations&#x27;,\n",
              "                                                  Pipeline(steps=[(&#x27;cat_imputer&#x27;,\n",
              "                                                                   SimpleImputer(strategy=&#x27;most_frequent&#x27;)),\n",
              "                                                                  (&#x27;encoder&#x27;,\n",
              "                                                                   OneHotEnc...\n",
              "       &#x27;MultipleLines&#x27;, &#x27;InternetService&#x27;, &#x27;OnlineSecurity&#x27;, &#x27;OnlineBackup&#x27;,\n",
              "       &#x27;DeviceProtection&#x27;, &#x27;TechSupport&#x27;, &#x27;StreamingTV&#x27;, &#x27;StreamingMovies&#x27;,\n",
              "       &#x27;Contract&#x27;, &#x27;PaperlessBilling&#x27;, &#x27;PaymentMethod&#x27;],\n",
              "      dtype=&#x27;object&#x27;))])),\n",
              "                (&#x27;smote&#x27;, SMOTE(random_state=42)),\n",
              "                (&#x27;feature_selection&#x27;,\n",
              "                 SelectKBest(score_func=&lt;function mutual_info_classif at 0x1689e1620&gt;)),\n",
              "                (&#x27;classifier&#x27;, GradientBoostingClassifier())])</pre></div></div></div><div class=\"sk-serial\"><div class=\"sk-item\"><div class=\"sk-serial\"><div class=\"sk-item sk-dashed-wrapped\"><div class=\"sk-label-container\"><div class=\"sk-label sk-toggleable\"><input class=\"sk-toggleable__control sk-hidden--visually\" id=\"sk-estimator-id-15\" type=\"checkbox\" ><label for=\"sk-estimator-id-15\" class=\"sk-toggleable__label sk-toggleable__label-arrow\">preprocessor: ColumnTransformer</label><div class=\"sk-toggleable__content\"><pre>ColumnTransformer(transformers=[(&#x27;numerical_transformations&#x27;,\n",
              "                                 Pipeline(steps=[(&#x27;num_imputer&#x27;,\n",
              "                                                  SimpleImputer()),\n",
              "                                                 (&#x27;scaler &#x27;, RobustScaler())]),\n",
              "                                 Index([&#x27;tenure&#x27;, &#x27;MonthlyCharges&#x27;, &#x27;TotalCharges&#x27;], dtype=&#x27;object&#x27;)),\n",
              "                                (&#x27;cat_transformations&#x27;,\n",
              "                                 Pipeline(steps=[(&#x27;cat_imputer&#x27;,\n",
              "                                                  SimpleImputer(strategy=&#x27;most_frequent&#x27;)),\n",
              "                                                 (&#x27;encoder&#x27;, OneHotEncoder())]),\n",
              "                                 Index([&#x27;gender&#x27;, &#x27;SeniorCitizen&#x27;, &#x27;Partner&#x27;, &#x27;Dependents&#x27;, &#x27;PhoneService&#x27;,\n",
              "       &#x27;MultipleLines&#x27;, &#x27;InternetService&#x27;, &#x27;OnlineSecurity&#x27;, &#x27;OnlineBackup&#x27;,\n",
              "       &#x27;DeviceProtection&#x27;, &#x27;TechSupport&#x27;, &#x27;StreamingTV&#x27;, &#x27;StreamingMovies&#x27;,\n",
              "       &#x27;Contract&#x27;, &#x27;PaperlessBilling&#x27;, &#x27;PaymentMethod&#x27;],\n",
              "      dtype=&#x27;object&#x27;))])</pre></div></div></div><div class=\"sk-parallel\"><div class=\"sk-parallel-item\"><div class=\"sk-item\"><div class=\"sk-label-container\"><div class=\"sk-label sk-toggleable\"><input class=\"sk-toggleable__control sk-hidden--visually\" id=\"sk-estimator-id-16\" type=\"checkbox\" ><label for=\"sk-estimator-id-16\" class=\"sk-toggleable__label sk-toggleable__label-arrow\">numerical_transformations</label><div class=\"sk-toggleable__content\"><pre>Index([&#x27;tenure&#x27;, &#x27;MonthlyCharges&#x27;, &#x27;TotalCharges&#x27;], dtype=&#x27;object&#x27;)</pre></div></div></div><div class=\"sk-serial\"><div class=\"sk-item\"><div class=\"sk-serial\"><div class=\"sk-item\"><div class=\"sk-estimator sk-toggleable\"><input class=\"sk-toggleable__control sk-hidden--visually\" id=\"sk-estimator-id-17\" type=\"checkbox\" ><label for=\"sk-estimator-id-17\" class=\"sk-toggleable__label sk-toggleable__label-arrow\">SimpleImputer</label><div class=\"sk-toggleable__content\"><pre>SimpleImputer()</pre></div></div></div><div class=\"sk-item\"><div class=\"sk-estimator sk-toggleable\"><input class=\"sk-toggleable__control sk-hidden--visually\" id=\"sk-estimator-id-18\" type=\"checkbox\" ><label for=\"sk-estimator-id-18\" class=\"sk-toggleable__label sk-toggleable__label-arrow\">RobustScaler</label><div class=\"sk-toggleable__content\"><pre>RobustScaler()</pre></div></div></div></div></div></div></div></div><div class=\"sk-parallel-item\"><div class=\"sk-item\"><div class=\"sk-label-container\"><div class=\"sk-label sk-toggleable\"><input class=\"sk-toggleable__control sk-hidden--visually\" id=\"sk-estimator-id-19\" type=\"checkbox\" ><label for=\"sk-estimator-id-19\" class=\"sk-toggleable__label sk-toggleable__label-arrow\">cat_transformations</label><div class=\"sk-toggleable__content\"><pre>Index([&#x27;gender&#x27;, &#x27;SeniorCitizen&#x27;, &#x27;Partner&#x27;, &#x27;Dependents&#x27;, &#x27;PhoneService&#x27;,\n",
              "       &#x27;MultipleLines&#x27;, &#x27;InternetService&#x27;, &#x27;OnlineSecurity&#x27;, &#x27;OnlineBackup&#x27;,\n",
              "       &#x27;DeviceProtection&#x27;, &#x27;TechSupport&#x27;, &#x27;StreamingTV&#x27;, &#x27;StreamingMovies&#x27;,\n",
              "       &#x27;Contract&#x27;, &#x27;PaperlessBilling&#x27;, &#x27;PaymentMethod&#x27;],\n",
              "      dtype=&#x27;object&#x27;)</pre></div></div></div><div class=\"sk-serial\"><div class=\"sk-item\"><div class=\"sk-serial\"><div class=\"sk-item\"><div class=\"sk-estimator sk-toggleable\"><input class=\"sk-toggleable__control sk-hidden--visually\" id=\"sk-estimator-id-20\" type=\"checkbox\" ><label for=\"sk-estimator-id-20\" class=\"sk-toggleable__label sk-toggleable__label-arrow\">SimpleImputer</label><div class=\"sk-toggleable__content\"><pre>SimpleImputer(strategy=&#x27;most_frequent&#x27;)</pre></div></div></div><div class=\"sk-item\"><div class=\"sk-estimator sk-toggleable\"><input class=\"sk-toggleable__control sk-hidden--visually\" id=\"sk-estimator-id-21\" type=\"checkbox\" ><label for=\"sk-estimator-id-21\" class=\"sk-toggleable__label sk-toggleable__label-arrow\">OneHotEncoder</label><div class=\"sk-toggleable__content\"><pre>OneHotEncoder()</pre></div></div></div></div></div></div></div></div></div></div><div class=\"sk-item\"><div class=\"sk-estimator sk-toggleable\"><input class=\"sk-toggleable__control sk-hidden--visually\" id=\"sk-estimator-id-22\" type=\"checkbox\" ><label for=\"sk-estimator-id-22\" class=\"sk-toggleable__label sk-toggleable__label-arrow\">SMOTE</label><div class=\"sk-toggleable__content\"><pre>SMOTE(random_state=42)</pre></div></div></div><div class=\"sk-item\"><div class=\"sk-estimator sk-toggleable\"><input class=\"sk-toggleable__control sk-hidden--visually\" id=\"sk-estimator-id-23\" type=\"checkbox\" ><label for=\"sk-estimator-id-23\" class=\"sk-toggleable__label sk-toggleable__label-arrow\">SelectKBest</label><div class=\"sk-toggleable__content\"><pre>SelectKBest(score_func=&lt;function mutual_info_classif at 0x1689e1620&gt;)</pre></div></div></div><div class=\"sk-item\"><div class=\"sk-estimator sk-toggleable\"><input class=\"sk-toggleable__control sk-hidden--visually\" id=\"sk-estimator-id-24\" type=\"checkbox\" ><label for=\"sk-estimator-id-24\" class=\"sk-toggleable__label sk-toggleable__label-arrow\">GradientBoostingClassifier</label><div class=\"sk-toggleable__content\"><pre>GradientBoostingClassifier()</pre></div></div></div></div></div></div></div></div></div></div></div></div>"
            ],
            "text/plain": [
              "GridSearchCV(cv=5,\n",
              "             estimator=Pipeline(steps=[('preprocessor',\n",
              "                                        ColumnTransformer(transformers=[('numerical_transformations',\n",
              "                                                                         Pipeline(steps=[('num_imputer',\n",
              "                                                                                          SimpleImputer()),\n",
              "                                                                                         ('scaler ',\n",
              "                                                                                          RobustScaler())]),\n",
              "                                                                         Index(['tenure', 'MonthlyCharges', 'TotalCharges'], dtype='object')),\n",
              "                                                                        ('cat_transformations',\n",
              "                                                                         Pipeline(steps=[('cat_imputer',\n",
              "                                                                                          SimpleImputer(strategy='most_freq...\n",
              "      dtype='object'))])),\n",
              "                                       ('smote', SMOTE(random_state=42)),\n",
              "                                       ('feature_selection',\n",
              "                                        SelectKBest(score_func=<function mutual_info_classif at 0x1689e1620>)),\n",
              "                                       ('classifier',\n",
              "                                        GradientBoostingClassifier())]),\n",
              "             param_grid={'classifier__max_depth': [None, 10, 20],\n",
              "                         'classifier__min_samples_split': [2, 5, 10],\n",
              "                         'classifier__n_estimators': [5, 10, 15],\n",
              "                         'feature_selection__k': [5, 10, 15]},\n",
              "             scoring='f1')"
            ]
          },
          "execution_count": 26,
          "metadata": {},
          "output_type": "execute_result"
        }
      ],
      "source": [
        "# setting the parameters\n",
        "params_grid = {\n",
        "    'feature_selection__k': [5, 10, 15],\n",
        "    'classifier__n_estimators': [5, 10, 15],\n",
        "    'classifier__max_depth': [None, 10, 20],\n",
        "    'classifier__min_samples_split': [2, 5, 10],\n",
        "}\n",
        "\n",
        "searcher = GridSearchCV(\n",
        "    gradient_pipeline,\n",
        "    param_grid=params_grid,\n",
        "    cv=5, scoring='f1'\n",
        "    )\n",
        "# fitting the searcher with train data\n",
        "searcher.fit(X_train, y_train_encoded)"
      ]
    },
    {
      "cell_type": "code",
      "execution_count": null,
      "metadata": {
        "id": "5jxajVhUdSx6"
      },
      "outputs": [],
      "source": [
        "# checking the results of the tuned data in a dataframe\n",
        "search_history = pd.DataFrame(searcher.cv_results_)"
      ]
    },
    {
      "cell_type": "code",
      "execution_count": null,
      "metadata": {
        "id": "qwHZlbotdSx8",
        "outputId": "6b63645d-855a-4d90-805e-0375bae56771"
      },
      "outputs": [
        {
          "data": {
            "text/html": [
              "<div>\n",
              "<style scoped>\n",
              "    .dataframe tbody tr th:only-of-type {\n",
              "        vertical-align: middle;\n",
              "    }\n",
              "\n",
              "    .dataframe tbody tr th {\n",
              "        vertical-align: top;\n",
              "    }\n",
              "\n",
              "    .dataframe thead th {\n",
              "        text-align: right;\n",
              "    }\n",
              "</style>\n",
              "<table border=\"1\" class=\"dataframe\">\n",
              "  <thead>\n",
              "    <tr style=\"text-align: right;\">\n",
              "      <th></th>\n",
              "      <th>mean_fit_time</th>\n",
              "      <th>std_fit_time</th>\n",
              "      <th>mean_score_time</th>\n",
              "      <th>std_score_time</th>\n",
              "      <th>param_classifier__max_depth</th>\n",
              "      <th>param_classifier__min_samples_split</th>\n",
              "      <th>param_classifier__n_estimators</th>\n",
              "      <th>param_feature_selection__k</th>\n",
              "      <th>params</th>\n",
              "      <th>split0_test_score</th>\n",
              "      <th>split1_test_score</th>\n",
              "      <th>split2_test_score</th>\n",
              "      <th>split3_test_score</th>\n",
              "      <th>split4_test_score</th>\n",
              "      <th>mean_test_score</th>\n",
              "      <th>std_test_score</th>\n",
              "      <th>rank_test_score</th>\n",
              "    </tr>\n",
              "  </thead>\n",
              "  <tbody>\n",
              "    <tr>\n",
              "      <th>0</th>\n",
              "      <td>0.822159</td>\n",
              "      <td>0.066859</td>\n",
              "      <td>0.006864</td>\n",
              "      <td>0.000128</td>\n",
              "      <td>None</td>\n",
              "      <td>2</td>\n",
              "      <td>5</td>\n",
              "      <td>5</td>\n",
              "      <td>{'classifier__max_depth': None, 'classifier__m...</td>\n",
              "      <td>0.510823</td>\n",
              "      <td>0.497608</td>\n",
              "      <td>0.523691</td>\n",
              "      <td>0.548936</td>\n",
              "      <td>0.496454</td>\n",
              "      <td>0.515502</td>\n",
              "      <td>0.019441</td>\n",
              "      <td>79</td>\n",
              "    </tr>\n",
              "    <tr>\n",
              "      <th>1</th>\n",
              "      <td>0.831955</td>\n",
              "      <td>0.055108</td>\n",
              "      <td>0.006892</td>\n",
              "      <td>0.000102</td>\n",
              "      <td>None</td>\n",
              "      <td>2</td>\n",
              "      <td>5</td>\n",
              "      <td>10</td>\n",
              "      <td>{'classifier__max_depth': None, 'classifier__m...</td>\n",
              "      <td>0.514161</td>\n",
              "      <td>0.480899</td>\n",
              "      <td>0.555556</td>\n",
              "      <td>0.543430</td>\n",
              "      <td>0.573276</td>\n",
              "      <td>0.533464</td>\n",
              "      <td>0.032582</td>\n",
              "      <td>60</td>\n",
              "    </tr>\n",
              "    <tr>\n",
              "      <th>2</th>\n",
              "      <td>0.859105</td>\n",
              "      <td>0.053969</td>\n",
              "      <td>0.006989</td>\n",
              "      <td>0.000109</td>\n",
              "      <td>None</td>\n",
              "      <td>2</td>\n",
              "      <td>5</td>\n",
              "      <td>15</td>\n",
              "      <td>{'classifier__max_depth': None, 'classifier__m...</td>\n",
              "      <td>0.525843</td>\n",
              "      <td>0.503254</td>\n",
              "      <td>0.532110</td>\n",
              "      <td>0.545455</td>\n",
              "      <td>0.541126</td>\n",
              "      <td>0.529557</td>\n",
              "      <td>0.014824</td>\n",
              "      <td>67</td>\n",
              "    </tr>\n",
              "    <tr>\n",
              "      <th>3</th>\n",
              "      <td>0.888423</td>\n",
              "      <td>0.043152</td>\n",
              "      <td>0.007070</td>\n",
              "      <td>0.000150</td>\n",
              "      <td>None</td>\n",
              "      <td>2</td>\n",
              "      <td>10</td>\n",
              "      <td>5</td>\n",
              "      <td>{'classifier__max_depth': None, 'classifier__m...</td>\n",
              "      <td>0.524946</td>\n",
              "      <td>0.497608</td>\n",
              "      <td>0.523691</td>\n",
              "      <td>0.536170</td>\n",
              "      <td>0.504808</td>\n",
              "      <td>0.517444</td>\n",
              "      <td>0.014136</td>\n",
              "      <td>78</td>\n",
              "    </tr>\n",
              "    <tr>\n",
              "      <th>4</th>\n",
              "      <td>0.974956</td>\n",
              "      <td>0.049278</td>\n",
              "      <td>0.007287</td>\n",
              "      <td>0.000212</td>\n",
              "      <td>None</td>\n",
              "      <td>2</td>\n",
              "      <td>10</td>\n",
              "      <td>10</td>\n",
              "      <td>{'classifier__max_depth': None, 'classifier__m...</td>\n",
              "      <td>0.505543</td>\n",
              "      <td>0.502222</td>\n",
              "      <td>0.577093</td>\n",
              "      <td>0.543430</td>\n",
              "      <td>0.573840</td>\n",
              "      <td>0.540425</td>\n",
              "      <td>0.032082</td>\n",
              "      <td>45</td>\n",
              "    </tr>\n",
              "    <tr>\n",
              "      <th>...</th>\n",
              "      <td>...</td>\n",
              "      <td>...</td>\n",
              "      <td>...</td>\n",
              "      <td>...</td>\n",
              "      <td>...</td>\n",
              "      <td>...</td>\n",
              "      <td>...</td>\n",
              "      <td>...</td>\n",
              "      <td>...</td>\n",
              "      <td>...</td>\n",
              "      <td>...</td>\n",
              "      <td>...</td>\n",
              "      <td>...</td>\n",
              "      <td>...</td>\n",
              "      <td>...</td>\n",
              "      <td>...</td>\n",
              "      <td>...</td>\n",
              "    </tr>\n",
              "    <tr>\n",
              "      <th>76</th>\n",
              "      <td>0.948641</td>\n",
              "      <td>0.053072</td>\n",
              "      <td>0.007334</td>\n",
              "      <td>0.000087</td>\n",
              "      <td>20</td>\n",
              "      <td>10</td>\n",
              "      <td>10</td>\n",
              "      <td>10</td>\n",
              "      <td>{'classifier__max_depth': 20, 'classifier__min...</td>\n",
              "      <td>0.508009</td>\n",
              "      <td>0.524444</td>\n",
              "      <td>0.570766</td>\n",
              "      <td>0.577406</td>\n",
              "      <td>0.601227</td>\n",
              "      <td>0.556370</td>\n",
              "      <td>0.034698</td>\n",
              "      <td>34</td>\n",
              "    </tr>\n",
              "    <tr>\n",
              "      <th>77</th>\n",
              "      <td>0.999978</td>\n",
              "      <td>0.050583</td>\n",
              "      <td>0.007547</td>\n",
              "      <td>0.000182</td>\n",
              "      <td>20</td>\n",
              "      <td>10</td>\n",
              "      <td>10</td>\n",
              "      <td>15</td>\n",
              "      <td>{'classifier__max_depth': 20, 'classifier__min...</td>\n",
              "      <td>0.534831</td>\n",
              "      <td>0.550218</td>\n",
              "      <td>0.554779</td>\n",
              "      <td>0.581053</td>\n",
              "      <td>0.573363</td>\n",
              "      <td>0.558849</td>\n",
              "      <td>0.016562</td>\n",
              "      <td>33</td>\n",
              "    </tr>\n",
              "    <tr>\n",
              "      <th>78</th>\n",
              "      <td>0.940346</td>\n",
              "      <td>0.069561</td>\n",
              "      <td>0.007852</td>\n",
              "      <td>0.000210</td>\n",
              "      <td>20</td>\n",
              "      <td>10</td>\n",
              "      <td>15</td>\n",
              "      <td>5</td>\n",
              "      <td>{'classifier__max_depth': 20, 'classifier__min...</td>\n",
              "      <td>0.555789</td>\n",
              "      <td>0.516411</td>\n",
              "      <td>0.535545</td>\n",
              "      <td>0.533049</td>\n",
              "      <td>0.533040</td>\n",
              "      <td>0.534767</td>\n",
              "      <td>0.012533</td>\n",
              "      <td>56</td>\n",
              "    </tr>\n",
              "    <tr>\n",
              "      <th>79</th>\n",
              "      <td>1.103771</td>\n",
              "      <td>0.058888</td>\n",
              "      <td>0.008006</td>\n",
              "      <td>0.000108</td>\n",
              "      <td>20</td>\n",
              "      <td>10</td>\n",
              "      <td>15</td>\n",
              "      <td>10</td>\n",
              "      <td>{'classifier__max_depth': 20, 'classifier__min...</td>\n",
              "      <td>0.504630</td>\n",
              "      <td>0.524664</td>\n",
              "      <td>0.585812</td>\n",
              "      <td>0.595186</td>\n",
              "      <td>0.605150</td>\n",
              "      <td>0.563088</td>\n",
              "      <td>0.040521</td>\n",
              "      <td>30</td>\n",
              "    </tr>\n",
              "    <tr>\n",
              "      <th>80</th>\n",
              "      <td>1.217811</td>\n",
              "      <td>0.056468</td>\n",
              "      <td>0.008040</td>\n",
              "      <td>0.000156</td>\n",
              "      <td>20</td>\n",
              "      <td>10</td>\n",
              "      <td>15</td>\n",
              "      <td>15</td>\n",
              "      <td>{'classifier__max_depth': 20, 'classifier__min...</td>\n",
              "      <td>0.526559</td>\n",
              "      <td>0.573333</td>\n",
              "      <td>0.569412</td>\n",
              "      <td>0.589520</td>\n",
              "      <td>0.584071</td>\n",
              "      <td>0.568579</td>\n",
              "      <td>0.022215</td>\n",
              "      <td>26</td>\n",
              "    </tr>\n",
              "  </tbody>\n",
              "</table>\n",
              "<p>81 rows × 17 columns</p>\n",
              "</div>"
            ],
            "text/plain": [
              "    mean_fit_time  std_fit_time  mean_score_time  std_score_time  \\\n",
              "0        0.822159      0.066859         0.006864        0.000128   \n",
              "1        0.831955      0.055108         0.006892        0.000102   \n",
              "2        0.859105      0.053969         0.006989        0.000109   \n",
              "3        0.888423      0.043152         0.007070        0.000150   \n",
              "4        0.974956      0.049278         0.007287        0.000212   \n",
              "..            ...           ...              ...             ...   \n",
              "76       0.948641      0.053072         0.007334        0.000087   \n",
              "77       0.999978      0.050583         0.007547        0.000182   \n",
              "78       0.940346      0.069561         0.007852        0.000210   \n",
              "79       1.103771      0.058888         0.008006        0.000108   \n",
              "80       1.217811      0.056468         0.008040        0.000156   \n",
              "\n",
              "   param_classifier__max_depth param_classifier__min_samples_split  \\\n",
              "0                         None                                   2   \n",
              "1                         None                                   2   \n",
              "2                         None                                   2   \n",
              "3                         None                                   2   \n",
              "4                         None                                   2   \n",
              "..                         ...                                 ...   \n",
              "76                          20                                  10   \n",
              "77                          20                                  10   \n",
              "78                          20                                  10   \n",
              "79                          20                                  10   \n",
              "80                          20                                  10   \n",
              "\n",
              "   param_classifier__n_estimators param_feature_selection__k  \\\n",
              "0                               5                          5   \n",
              "1                               5                         10   \n",
              "2                               5                         15   \n",
              "3                              10                          5   \n",
              "4                              10                         10   \n",
              "..                            ...                        ...   \n",
              "76                             10                         10   \n",
              "77                             10                         15   \n",
              "78                             15                          5   \n",
              "79                             15                         10   \n",
              "80                             15                         15   \n",
              "\n",
              "                                               params  split0_test_score  \\\n",
              "0   {'classifier__max_depth': None, 'classifier__m...           0.510823   \n",
              "1   {'classifier__max_depth': None, 'classifier__m...           0.514161   \n",
              "2   {'classifier__max_depth': None, 'classifier__m...           0.525843   \n",
              "3   {'classifier__max_depth': None, 'classifier__m...           0.524946   \n",
              "4   {'classifier__max_depth': None, 'classifier__m...           0.505543   \n",
              "..                                                ...                ...   \n",
              "76  {'classifier__max_depth': 20, 'classifier__min...           0.508009   \n",
              "77  {'classifier__max_depth': 20, 'classifier__min...           0.534831   \n",
              "78  {'classifier__max_depth': 20, 'classifier__min...           0.555789   \n",
              "79  {'classifier__max_depth': 20, 'classifier__min...           0.504630   \n",
              "80  {'classifier__max_depth': 20, 'classifier__min...           0.526559   \n",
              "\n",
              "    split1_test_score  split2_test_score  split3_test_score  \\\n",
              "0            0.497608           0.523691           0.548936   \n",
              "1            0.480899           0.555556           0.543430   \n",
              "2            0.503254           0.532110           0.545455   \n",
              "3            0.497608           0.523691           0.536170   \n",
              "4            0.502222           0.577093           0.543430   \n",
              "..                ...                ...                ...   \n",
              "76           0.524444           0.570766           0.577406   \n",
              "77           0.550218           0.554779           0.581053   \n",
              "78           0.516411           0.535545           0.533049   \n",
              "79           0.524664           0.585812           0.595186   \n",
              "80           0.573333           0.569412           0.589520   \n",
              "\n",
              "    split4_test_score  mean_test_score  std_test_score  rank_test_score  \n",
              "0            0.496454         0.515502        0.019441               79  \n",
              "1            0.573276         0.533464        0.032582               60  \n",
              "2            0.541126         0.529557        0.014824               67  \n",
              "3            0.504808         0.517444        0.014136               78  \n",
              "4            0.573840         0.540425        0.032082               45  \n",
              "..                ...              ...             ...              ...  \n",
              "76           0.601227         0.556370        0.034698               34  \n",
              "77           0.573363         0.558849        0.016562               33  \n",
              "78           0.533040         0.534767        0.012533               56  \n",
              "79           0.605150         0.563088        0.040521               30  \n",
              "80           0.584071         0.568579        0.022215               26  \n",
              "\n",
              "[81 rows x 17 columns]"
            ]
          },
          "execution_count": 36,
          "metadata": {},
          "output_type": "execute_result"
        }
      ],
      "source": [
        "search_history"
      ]
    },
    {
      "cell_type": "code",
      "execution_count": null,
      "metadata": {
        "id": "yY9wV6rzdSx-",
        "outputId": "a025efd4-16ca-4377-b8a0-db9bd5a99075"
      },
      "outputs": [
        {
          "data": {
            "text/plain": [
              "{'classifier__max_depth': 10,\n",
              " 'classifier__min_samples_split': 10,\n",
              " 'classifier__n_estimators': 15,\n",
              " 'feature_selection__k': 10}"
            ]
          },
          "execution_count": 69,
          "metadata": {},
          "output_type": "execute_result"
        }
      ],
      "source": [
        "# checking the best parameter used\n",
        "best_params = searcher.best_params_\n",
        "best_params"
      ]
    },
    {
      "cell_type": "markdown",
      "metadata": {
        "id": "Vq7fuyZEdSyB"
      },
      "source": [
        "##### 6.5.1 Retrain model with best parameter"
      ]
    },
    {
      "cell_type": "code",
      "execution_count": null,
      "metadata": {
        "id": "lqGMYZnodSyC",
        "outputId": "243d8f7b-cb4f-408e-83fb-1426263c8264"
      },
      "outputs": [
        {
          "data": {
            "text/html": [
              "<style>#sk-container-id-3 {color: black;}#sk-container-id-3 pre{padding: 0;}#sk-container-id-3 div.sk-toggleable {background-color: white;}#sk-container-id-3 label.sk-toggleable__label {cursor: pointer;display: block;width: 100%;margin-bottom: 0;padding: 0.3em;box-sizing: border-box;text-align: center;}#sk-container-id-3 label.sk-toggleable__label-arrow:before {content: \"▸\";float: left;margin-right: 0.25em;color: #696969;}#sk-container-id-3 label.sk-toggleable__label-arrow:hover:before {color: black;}#sk-container-id-3 div.sk-estimator:hover label.sk-toggleable__label-arrow:before {color: black;}#sk-container-id-3 div.sk-toggleable__content {max-height: 0;max-width: 0;overflow: hidden;text-align: left;background-color: #f0f8ff;}#sk-container-id-3 div.sk-toggleable__content pre {margin: 0.2em;color: black;border-radius: 0.25em;background-color: #f0f8ff;}#sk-container-id-3 input.sk-toggleable__control:checked~div.sk-toggleable__content {max-height: 200px;max-width: 100%;overflow: auto;}#sk-container-id-3 input.sk-toggleable__control:checked~label.sk-toggleable__label-arrow:before {content: \"▾\";}#sk-container-id-3 div.sk-estimator input.sk-toggleable__control:checked~label.sk-toggleable__label {background-color: #d4ebff;}#sk-container-id-3 div.sk-label input.sk-toggleable__control:checked~label.sk-toggleable__label {background-color: #d4ebff;}#sk-container-id-3 input.sk-hidden--visually {border: 0;clip: rect(1px 1px 1px 1px);clip: rect(1px, 1px, 1px, 1px);height: 1px;margin: -1px;overflow: hidden;padding: 0;position: absolute;width: 1px;}#sk-container-id-3 div.sk-estimator {font-family: monospace;background-color: #f0f8ff;border: 1px dotted black;border-radius: 0.25em;box-sizing: border-box;margin-bottom: 0.5em;}#sk-container-id-3 div.sk-estimator:hover {background-color: #d4ebff;}#sk-container-id-3 div.sk-parallel-item::after {content: \"\";width: 100%;border-bottom: 1px solid gray;flex-grow: 1;}#sk-container-id-3 div.sk-label:hover label.sk-toggleable__label {background-color: #d4ebff;}#sk-container-id-3 div.sk-serial::before {content: \"\";position: absolute;border-left: 1px solid gray;box-sizing: border-box;top: 0;bottom: 0;left: 50%;z-index: 0;}#sk-container-id-3 div.sk-serial {display: flex;flex-direction: column;align-items: center;background-color: white;padding-right: 0.2em;padding-left: 0.2em;position: relative;}#sk-container-id-3 div.sk-item {position: relative;z-index: 1;}#sk-container-id-3 div.sk-parallel {display: flex;align-items: stretch;justify-content: center;background-color: white;position: relative;}#sk-container-id-3 div.sk-item::before, #sk-container-id-3 div.sk-parallel-item::before {content: \"\";position: absolute;border-left: 1px solid gray;box-sizing: border-box;top: 0;bottom: 0;left: 50%;z-index: -1;}#sk-container-id-3 div.sk-parallel-item {display: flex;flex-direction: column;z-index: 1;position: relative;background-color: white;}#sk-container-id-3 div.sk-parallel-item:first-child::after {align-self: flex-end;width: 50%;}#sk-container-id-3 div.sk-parallel-item:last-child::after {align-self: flex-start;width: 50%;}#sk-container-id-3 div.sk-parallel-item:only-child::after {width: 0;}#sk-container-id-3 div.sk-dashed-wrapped {border: 1px dashed gray;margin: 0 0.4em 0.5em 0.4em;box-sizing: border-box;padding-bottom: 0.4em;background-color: white;}#sk-container-id-3 div.sk-label label {font-family: monospace;font-weight: bold;display: inline-block;line-height: 1.2em;}#sk-container-id-3 div.sk-label-container {text-align: center;}#sk-container-id-3 div.sk-container {/* jupyter's `normalize.less` sets `[hidden] { display: none; }` but bootstrap.min.css set `[hidden] { display: none !important; }` so we also need the `!important` here to be able to override the default hidden behavior on the sphinx rendered scikit-learn.org. See: https://github.com/scikit-learn/scikit-learn/issues/21755 */display: inline-block !important;position: relative;}#sk-container-id-3 div.sk-text-repr-fallback {display: none;}</style><div id=\"sk-container-id-3\" class=\"sk-top-container\"><div class=\"sk-text-repr-fallback\"><pre>Pipeline(steps=[(&#x27;preprocessor&#x27;,\n",
              "                 ColumnTransformer(transformers=[(&#x27;numerical_transformations&#x27;,\n",
              "                                                  Pipeline(steps=[(&#x27;num_imputer&#x27;,\n",
              "                                                                   SimpleImputer()),\n",
              "                                                                  (&#x27;scaler &#x27;,\n",
              "                                                                   RobustScaler())]),\n",
              "                                                  Index([&#x27;tenure&#x27;, &#x27;MonthlyCharges&#x27;, &#x27;TotalCharges&#x27;], dtype=&#x27;object&#x27;)),\n",
              "                                                 (&#x27;cat_transformations&#x27;,\n",
              "                                                  Pipeline(steps=[(&#x27;cat_imputer&#x27;,\n",
              "                                                                   SimpleImputer(strategy=&#x27;most_frequent&#x27;)),\n",
              "                                                                  (&#x27;encoder&#x27;,\n",
              "                                                                   OneHotEnc...\n",
              "       &#x27;MultipleLines&#x27;, &#x27;InternetService&#x27;, &#x27;OnlineSecurity&#x27;, &#x27;OnlineBackup&#x27;,\n",
              "       &#x27;DeviceProtection&#x27;, &#x27;TechSupport&#x27;, &#x27;StreamingTV&#x27;, &#x27;StreamingMovies&#x27;,\n",
              "       &#x27;Contract&#x27;, &#x27;PaperlessBilling&#x27;, &#x27;PaymentMethod&#x27;],\n",
              "      dtype=&#x27;object&#x27;))])),\n",
              "                (&#x27;smote&#x27;, SMOTE(random_state=42)),\n",
              "                (&#x27;feature_selection&#x27;,\n",
              "                 SelectKBest(score_func=&lt;function mutual_info_classif at 0x1689e1620&gt;)),\n",
              "                (&#x27;classifier&#x27;,\n",
              "                 GradientBoostingClassifier(max_depth=10, min_samples_split=10,\n",
              "                                            n_estimators=15))])</pre><b>In a Jupyter environment, please rerun this cell to show the HTML representation or trust the notebook. <br />On GitHub, the HTML representation is unable to render, please try loading this page with nbviewer.org.</b></div><div class=\"sk-container\" hidden><div class=\"sk-item sk-dashed-wrapped\"><div class=\"sk-label-container\"><div class=\"sk-label sk-toggleable\"><input class=\"sk-toggleable__control sk-hidden--visually\" id=\"sk-estimator-id-25\" type=\"checkbox\" ><label for=\"sk-estimator-id-25\" class=\"sk-toggleable__label sk-toggleable__label-arrow\">Pipeline</label><div class=\"sk-toggleable__content\"><pre>Pipeline(steps=[(&#x27;preprocessor&#x27;,\n",
              "                 ColumnTransformer(transformers=[(&#x27;numerical_transformations&#x27;,\n",
              "                                                  Pipeline(steps=[(&#x27;num_imputer&#x27;,\n",
              "                                                                   SimpleImputer()),\n",
              "                                                                  (&#x27;scaler &#x27;,\n",
              "                                                                   RobustScaler())]),\n",
              "                                                  Index([&#x27;tenure&#x27;, &#x27;MonthlyCharges&#x27;, &#x27;TotalCharges&#x27;], dtype=&#x27;object&#x27;)),\n",
              "                                                 (&#x27;cat_transformations&#x27;,\n",
              "                                                  Pipeline(steps=[(&#x27;cat_imputer&#x27;,\n",
              "                                                                   SimpleImputer(strategy=&#x27;most_frequent&#x27;)),\n",
              "                                                                  (&#x27;encoder&#x27;,\n",
              "                                                                   OneHotEnc...\n",
              "       &#x27;MultipleLines&#x27;, &#x27;InternetService&#x27;, &#x27;OnlineSecurity&#x27;, &#x27;OnlineBackup&#x27;,\n",
              "       &#x27;DeviceProtection&#x27;, &#x27;TechSupport&#x27;, &#x27;StreamingTV&#x27;, &#x27;StreamingMovies&#x27;,\n",
              "       &#x27;Contract&#x27;, &#x27;PaperlessBilling&#x27;, &#x27;PaymentMethod&#x27;],\n",
              "      dtype=&#x27;object&#x27;))])),\n",
              "                (&#x27;smote&#x27;, SMOTE(random_state=42)),\n",
              "                (&#x27;feature_selection&#x27;,\n",
              "                 SelectKBest(score_func=&lt;function mutual_info_classif at 0x1689e1620&gt;)),\n",
              "                (&#x27;classifier&#x27;,\n",
              "                 GradientBoostingClassifier(max_depth=10, min_samples_split=10,\n",
              "                                            n_estimators=15))])</pre></div></div></div><div class=\"sk-serial\"><div class=\"sk-item sk-dashed-wrapped\"><div class=\"sk-label-container\"><div class=\"sk-label sk-toggleable\"><input class=\"sk-toggleable__control sk-hidden--visually\" id=\"sk-estimator-id-26\" type=\"checkbox\" ><label for=\"sk-estimator-id-26\" class=\"sk-toggleable__label sk-toggleable__label-arrow\">preprocessor: ColumnTransformer</label><div class=\"sk-toggleable__content\"><pre>ColumnTransformer(transformers=[(&#x27;numerical_transformations&#x27;,\n",
              "                                 Pipeline(steps=[(&#x27;num_imputer&#x27;,\n",
              "                                                  SimpleImputer()),\n",
              "                                                 (&#x27;scaler &#x27;, RobustScaler())]),\n",
              "                                 Index([&#x27;tenure&#x27;, &#x27;MonthlyCharges&#x27;, &#x27;TotalCharges&#x27;], dtype=&#x27;object&#x27;)),\n",
              "                                (&#x27;cat_transformations&#x27;,\n",
              "                                 Pipeline(steps=[(&#x27;cat_imputer&#x27;,\n",
              "                                                  SimpleImputer(strategy=&#x27;most_frequent&#x27;)),\n",
              "                                                 (&#x27;encoder&#x27;, OneHotEncoder())]),\n",
              "                                 Index([&#x27;gender&#x27;, &#x27;SeniorCitizen&#x27;, &#x27;Partner&#x27;, &#x27;Dependents&#x27;, &#x27;PhoneService&#x27;,\n",
              "       &#x27;MultipleLines&#x27;, &#x27;InternetService&#x27;, &#x27;OnlineSecurity&#x27;, &#x27;OnlineBackup&#x27;,\n",
              "       &#x27;DeviceProtection&#x27;, &#x27;TechSupport&#x27;, &#x27;StreamingTV&#x27;, &#x27;StreamingMovies&#x27;,\n",
              "       &#x27;Contract&#x27;, &#x27;PaperlessBilling&#x27;, &#x27;PaymentMethod&#x27;],\n",
              "      dtype=&#x27;object&#x27;))])</pre></div></div></div><div class=\"sk-parallel\"><div class=\"sk-parallel-item\"><div class=\"sk-item\"><div class=\"sk-label-container\"><div class=\"sk-label sk-toggleable\"><input class=\"sk-toggleable__control sk-hidden--visually\" id=\"sk-estimator-id-27\" type=\"checkbox\" ><label for=\"sk-estimator-id-27\" class=\"sk-toggleable__label sk-toggleable__label-arrow\">numerical_transformations</label><div class=\"sk-toggleable__content\"><pre>Index([&#x27;tenure&#x27;, &#x27;MonthlyCharges&#x27;, &#x27;TotalCharges&#x27;], dtype=&#x27;object&#x27;)</pre></div></div></div><div class=\"sk-serial\"><div class=\"sk-item\"><div class=\"sk-serial\"><div class=\"sk-item\"><div class=\"sk-estimator sk-toggleable\"><input class=\"sk-toggleable__control sk-hidden--visually\" id=\"sk-estimator-id-28\" type=\"checkbox\" ><label for=\"sk-estimator-id-28\" class=\"sk-toggleable__label sk-toggleable__label-arrow\">SimpleImputer</label><div class=\"sk-toggleable__content\"><pre>SimpleImputer()</pre></div></div></div><div class=\"sk-item\"><div class=\"sk-estimator sk-toggleable\"><input class=\"sk-toggleable__control sk-hidden--visually\" id=\"sk-estimator-id-29\" type=\"checkbox\" ><label for=\"sk-estimator-id-29\" class=\"sk-toggleable__label sk-toggleable__label-arrow\">RobustScaler</label><div class=\"sk-toggleable__content\"><pre>RobustScaler()</pre></div></div></div></div></div></div></div></div><div class=\"sk-parallel-item\"><div class=\"sk-item\"><div class=\"sk-label-container\"><div class=\"sk-label sk-toggleable\"><input class=\"sk-toggleable__control sk-hidden--visually\" id=\"sk-estimator-id-30\" type=\"checkbox\" ><label for=\"sk-estimator-id-30\" class=\"sk-toggleable__label sk-toggleable__label-arrow\">cat_transformations</label><div class=\"sk-toggleable__content\"><pre>Index([&#x27;gender&#x27;, &#x27;SeniorCitizen&#x27;, &#x27;Partner&#x27;, &#x27;Dependents&#x27;, &#x27;PhoneService&#x27;,\n",
              "       &#x27;MultipleLines&#x27;, &#x27;InternetService&#x27;, &#x27;OnlineSecurity&#x27;, &#x27;OnlineBackup&#x27;,\n",
              "       &#x27;DeviceProtection&#x27;, &#x27;TechSupport&#x27;, &#x27;StreamingTV&#x27;, &#x27;StreamingMovies&#x27;,\n",
              "       &#x27;Contract&#x27;, &#x27;PaperlessBilling&#x27;, &#x27;PaymentMethod&#x27;],\n",
              "      dtype=&#x27;object&#x27;)</pre></div></div></div><div class=\"sk-serial\"><div class=\"sk-item\"><div class=\"sk-serial\"><div class=\"sk-item\"><div class=\"sk-estimator sk-toggleable\"><input class=\"sk-toggleable__control sk-hidden--visually\" id=\"sk-estimator-id-31\" type=\"checkbox\" ><label for=\"sk-estimator-id-31\" class=\"sk-toggleable__label sk-toggleable__label-arrow\">SimpleImputer</label><div class=\"sk-toggleable__content\"><pre>SimpleImputer(strategy=&#x27;most_frequent&#x27;)</pre></div></div></div><div class=\"sk-item\"><div class=\"sk-estimator sk-toggleable\"><input class=\"sk-toggleable__control sk-hidden--visually\" id=\"sk-estimator-id-32\" type=\"checkbox\" ><label for=\"sk-estimator-id-32\" class=\"sk-toggleable__label sk-toggleable__label-arrow\">OneHotEncoder</label><div class=\"sk-toggleable__content\"><pre>OneHotEncoder()</pre></div></div></div></div></div></div></div></div></div></div><div class=\"sk-item\"><div class=\"sk-estimator sk-toggleable\"><input class=\"sk-toggleable__control sk-hidden--visually\" id=\"sk-estimator-id-33\" type=\"checkbox\" ><label for=\"sk-estimator-id-33\" class=\"sk-toggleable__label sk-toggleable__label-arrow\">SMOTE</label><div class=\"sk-toggleable__content\"><pre>SMOTE(random_state=42)</pre></div></div></div><div class=\"sk-item\"><div class=\"sk-estimator sk-toggleable\"><input class=\"sk-toggleable__control sk-hidden--visually\" id=\"sk-estimator-id-34\" type=\"checkbox\" ><label for=\"sk-estimator-id-34\" class=\"sk-toggleable__label sk-toggleable__label-arrow\">SelectKBest</label><div class=\"sk-toggleable__content\"><pre>SelectKBest(score_func=&lt;function mutual_info_classif at 0x1689e1620&gt;)</pre></div></div></div><div class=\"sk-item\"><div class=\"sk-estimator sk-toggleable\"><input class=\"sk-toggleable__control sk-hidden--visually\" id=\"sk-estimator-id-35\" type=\"checkbox\" ><label for=\"sk-estimator-id-35\" class=\"sk-toggleable__label sk-toggleable__label-arrow\">GradientBoostingClassifier</label><div class=\"sk-toggleable__content\"><pre>GradientBoostingClassifier(max_depth=10, min_samples_split=10, n_estimators=15)</pre></div></div></div></div></div></div></div>"
            ],
            "text/plain": [
              "Pipeline(steps=[('preprocessor',\n",
              "                 ColumnTransformer(transformers=[('numerical_transformations',\n",
              "                                                  Pipeline(steps=[('num_imputer',\n",
              "                                                                   SimpleImputer()),\n",
              "                                                                  ('scaler ',\n",
              "                                                                   RobustScaler())]),\n",
              "                                                  Index(['tenure', 'MonthlyCharges', 'TotalCharges'], dtype='object')),\n",
              "                                                 ('cat_transformations',\n",
              "                                                  Pipeline(steps=[('cat_imputer',\n",
              "                                                                   SimpleImputer(strategy='most_frequent')),\n",
              "                                                                  ('encoder',\n",
              "                                                                   OneHotEnc...\n",
              "       'MultipleLines', 'InternetService', 'OnlineSecurity', 'OnlineBackup',\n",
              "       'DeviceProtection', 'TechSupport', 'StreamingTV', 'StreamingMovies',\n",
              "       'Contract', 'PaperlessBilling', 'PaymentMethod'],\n",
              "      dtype='object'))])),\n",
              "                ('smote', SMOTE(random_state=42)),\n",
              "                ('feature_selection',\n",
              "                 SelectKBest(score_func=<function mutual_info_classif at 0x1689e1620>)),\n",
              "                ('classifier',\n",
              "                 GradientBoostingClassifier(max_depth=10, min_samples_split=10,\n",
              "                                            n_estimators=15))])"
            ]
          },
          "execution_count": 28,
          "metadata": {},
          "output_type": "execute_result"
        }
      ],
      "source": [
        "gradient_pipeline.set_params(**best_params)\n",
        "gradient_pipeline.fit(X_train,y_train_encoded)"
      ]
    },
    {
      "cell_type": "markdown",
      "metadata": {
        "id": "YtyitD3_dSyE"
      },
      "source": [
        "#### 7.0 **Business Impact & Assessment** ##\n",
        "\n",
        "Our team used machine learning to predict customer churn for a telecommunications company, and achieved an accuracy of 0.82 and a lift of 2.28 with our Gradient Boosting model. The key metrics and findings of our model are:\n",
        "\n",
        "**Precision:**\n",
        "*0.76*\n",
        "\n",
        "**Recall:**\n",
        "*0.71*\n",
        "\n",
        "**Specificity:**\n",
        "*0.87*\n",
        "\n",
        "**F1 score:**\n",
        "*0.73*\n",
        "\n",
        "**Gain:**\n",
        "*0.71*\n",
        "\n",
        "**The confusion matrix of our model on the testing set is:**\n",
        "\n",
        "**Predicted Churn\tPredicted Stay**\n",
        "\n",
        "**Actual Churn**\t*355 (TP)\t144 (FN)*\n",
        "\n",
        "**Actual Stay**\t    *112 (FP)\t789 (TN)*\n",
        "\n",
        "Our model correctly identified 76% of the customers who churned, and captured 71% of the total churners in the testing set. This means that our model was more than twice as likely to find a churner than a random guess, and could help the company reduce the number of missed opportunities and revenue losses.\n",
        "\n",
        "We recommend that the company use our model to identify the customers who are at risk of churn, and implement retention strategies based on the insights derived from the data analysis, such as offering discounts, benefits, or personalized services to these customers. 🙏"
      ]
    },
    {
      "cell_type": "markdown",
      "metadata": {
        "id": "-wQ1G6_YdSyH"
      },
      "source": [
        "### 8.0 Testing on unknown dataset"
      ]
    },
    {
      "cell_type": "code",
      "execution_count": null,
      "metadata": {
        "id": "1mAUPF3udSyJ"
      },
      "outputs": [],
      "source": [
        "prediction = gradient_pipeline.predict(df_test)\n",
        "prediction=LabelEncoder.inverse_transform(prediction)"
      ]
    },
    {
      "cell_type": "code",
      "execution_count": null,
      "metadata": {
        "id": "TggG4lNudSyK"
      },
      "outputs": [],
      "source": [
        "df_test['Churn']=prediction"
      ]
    },
    {
      "cell_type": "code",
      "execution_count": null,
      "metadata": {
        "id": "0ABZAP8XdSyM",
        "outputId": "851260ee-2041-4ddf-cb14-712555c0f0e6"
      },
      "outputs": [
        {
          "data": {
            "text/html": [
              "<div>\n",
              "<style scoped>\n",
              "    .dataframe tbody tr th:only-of-type {\n",
              "        vertical-align: middle;\n",
              "    }\n",
              "\n",
              "    .dataframe tbody tr th {\n",
              "        vertical-align: top;\n",
              "    }\n",
              "\n",
              "    .dataframe thead th {\n",
              "        text-align: right;\n",
              "    }\n",
              "</style>\n",
              "<table border=\"1\" class=\"dataframe\">\n",
              "  <thead>\n",
              "    <tr style=\"text-align: right;\">\n",
              "      <th></th>\n",
              "      <th>gender</th>\n",
              "      <th>SeniorCitizen</th>\n",
              "      <th>Partner</th>\n",
              "      <th>Dependents</th>\n",
              "      <th>tenure</th>\n",
              "      <th>PhoneService</th>\n",
              "      <th>MultipleLines</th>\n",
              "      <th>InternetService</th>\n",
              "      <th>OnlineSecurity</th>\n",
              "      <th>OnlineBackup</th>\n",
              "      <th>DeviceProtection</th>\n",
              "      <th>TechSupport</th>\n",
              "      <th>StreamingTV</th>\n",
              "      <th>StreamingMovies</th>\n",
              "      <th>Contract</th>\n",
              "      <th>PaperlessBilling</th>\n",
              "      <th>PaymentMethod</th>\n",
              "      <th>MonthlyCharges</th>\n",
              "      <th>TotalCharges</th>\n",
              "      <th>Churn</th>\n",
              "    </tr>\n",
              "  </thead>\n",
              "  <tbody>\n",
              "    <tr>\n",
              "      <th>0</th>\n",
              "      <td>Male</td>\n",
              "      <td>No</td>\n",
              "      <td>No</td>\n",
              "      <td>No</td>\n",
              "      <td>12</td>\n",
              "      <td>Yes</td>\n",
              "      <td>Yes</td>\n",
              "      <td>Fiber optic</td>\n",
              "      <td>No</td>\n",
              "      <td>No</td>\n",
              "      <td>No</td>\n",
              "      <td>No</td>\n",
              "      <td>Yes</td>\n",
              "      <td>No</td>\n",
              "      <td>Month-to-month</td>\n",
              "      <td>Yes</td>\n",
              "      <td>Electronic check</td>\n",
              "      <td>84.45</td>\n",
              "      <td>1059.55</td>\n",
              "      <td>Yes</td>\n",
              "    </tr>\n",
              "    <tr>\n",
              "      <th>1</th>\n",
              "      <td>Male</td>\n",
              "      <td>No</td>\n",
              "      <td>No</td>\n",
              "      <td>No</td>\n",
              "      <td>9</td>\n",
              "      <td>Yes</td>\n",
              "      <td>No</td>\n",
              "      <td>No</td>\n",
              "      <td>No internet service</td>\n",
              "      <td>No internet service</td>\n",
              "      <td>No internet service</td>\n",
              "      <td>No internet service</td>\n",
              "      <td>No internet service</td>\n",
              "      <td>No internet service</td>\n",
              "      <td>Month-to-month</td>\n",
              "      <td>No</td>\n",
              "      <td>Mailed check</td>\n",
              "      <td>20.40</td>\n",
              "      <td>181.80</td>\n",
              "      <td>No</td>\n",
              "    </tr>\n",
              "    <tr>\n",
              "      <th>2</th>\n",
              "      <td>Male</td>\n",
              "      <td>No</td>\n",
              "      <td>No</td>\n",
              "      <td>No</td>\n",
              "      <td>27</td>\n",
              "      <td>Yes</td>\n",
              "      <td>No</td>\n",
              "      <td>DSL</td>\n",
              "      <td>Yes</td>\n",
              "      <td>No</td>\n",
              "      <td>Yes</td>\n",
              "      <td>Yes</td>\n",
              "      <td>Yes</td>\n",
              "      <td>Yes</td>\n",
              "      <td>One year</td>\n",
              "      <td>No</td>\n",
              "      <td>Electronic check</td>\n",
              "      <td>81.70</td>\n",
              "      <td>2212.55</td>\n",
              "      <td>No</td>\n",
              "    </tr>\n",
              "    <tr>\n",
              "      <th>3</th>\n",
              "      <td>Male</td>\n",
              "      <td>No</td>\n",
              "      <td>No</td>\n",
              "      <td>Yes</td>\n",
              "      <td>27</td>\n",
              "      <td>Yes</td>\n",
              "      <td>Yes</td>\n",
              "      <td>Fiber optic</td>\n",
              "      <td>No</td>\n",
              "      <td>No</td>\n",
              "      <td>No</td>\n",
              "      <td>Yes</td>\n",
              "      <td>No</td>\n",
              "      <td>No</td>\n",
              "      <td>Month-to-month</td>\n",
              "      <td>Yes</td>\n",
              "      <td>Electronic check</td>\n",
              "      <td>79.50</td>\n",
              "      <td>2180.55</td>\n",
              "      <td>No</td>\n",
              "    </tr>\n",
              "    <tr>\n",
              "      <th>4</th>\n",
              "      <td>Male</td>\n",
              "      <td>No</td>\n",
              "      <td>Yes</td>\n",
              "      <td>Yes</td>\n",
              "      <td>1</td>\n",
              "      <td>Yes</td>\n",
              "      <td>No</td>\n",
              "      <td>Fiber optic</td>\n",
              "      <td>No</td>\n",
              "      <td>No</td>\n",
              "      <td>No</td>\n",
              "      <td>No</td>\n",
              "      <td>Yes</td>\n",
              "      <td>Yes</td>\n",
              "      <td>Month-to-month</td>\n",
              "      <td>No</td>\n",
              "      <td>Mailed check</td>\n",
              "      <td>89.15</td>\n",
              "      <td>89.15</td>\n",
              "      <td>Yes</td>\n",
              "    </tr>\n",
              "    <tr>\n",
              "      <th>...</th>\n",
              "      <td>...</td>\n",
              "      <td>...</td>\n",
              "      <td>...</td>\n",
              "      <td>...</td>\n",
              "      <td>...</td>\n",
              "      <td>...</td>\n",
              "      <td>...</td>\n",
              "      <td>...</td>\n",
              "      <td>...</td>\n",
              "      <td>...</td>\n",
              "      <td>...</td>\n",
              "      <td>...</td>\n",
              "      <td>...</td>\n",
              "      <td>...</td>\n",
              "      <td>...</td>\n",
              "      <td>...</td>\n",
              "      <td>...</td>\n",
              "      <td>...</td>\n",
              "      <td>...</td>\n",
              "      <td>...</td>\n",
              "    </tr>\n",
              "    <tr>\n",
              "      <th>1995</th>\n",
              "      <td>Female</td>\n",
              "      <td>No</td>\n",
              "      <td>No</td>\n",
              "      <td>No</td>\n",
              "      <td>7</td>\n",
              "      <td>Yes</td>\n",
              "      <td>Yes</td>\n",
              "      <td>Fiber optic</td>\n",
              "      <td>No</td>\n",
              "      <td>No</td>\n",
              "      <td>No</td>\n",
              "      <td>No</td>\n",
              "      <td>No</td>\n",
              "      <td>No</td>\n",
              "      <td>Month-to-month</td>\n",
              "      <td>Yes</td>\n",
              "      <td>Bank transfer (automatic)</td>\n",
              "      <td>75.10</td>\n",
              "      <td>552.95</td>\n",
              "      <td>Yes</td>\n",
              "    </tr>\n",
              "    <tr>\n",
              "      <th>1996</th>\n",
              "      <td>Female</td>\n",
              "      <td>No</td>\n",
              "      <td>No</td>\n",
              "      <td>No</td>\n",
              "      <td>47</td>\n",
              "      <td>Yes</td>\n",
              "      <td>Yes</td>\n",
              "      <td>DSL</td>\n",
              "      <td>Yes</td>\n",
              "      <td>Yes</td>\n",
              "      <td>No</td>\n",
              "      <td>Yes</td>\n",
              "      <td>No</td>\n",
              "      <td>Yes</td>\n",
              "      <td>Two year</td>\n",
              "      <td>No</td>\n",
              "      <td>Mailed check</td>\n",
              "      <td>74.05</td>\n",
              "      <td>3496.30</td>\n",
              "      <td>No</td>\n",
              "    </tr>\n",
              "    <tr>\n",
              "      <th>1997</th>\n",
              "      <td>Male</td>\n",
              "      <td>Yes</td>\n",
              "      <td>No</td>\n",
              "      <td>No</td>\n",
              "      <td>2</td>\n",
              "      <td>Yes</td>\n",
              "      <td>No</td>\n",
              "      <td>DSL</td>\n",
              "      <td>No</td>\n",
              "      <td>No</td>\n",
              "      <td>No</td>\n",
              "      <td>No</td>\n",
              "      <td>No</td>\n",
              "      <td>No</td>\n",
              "      <td>Month-to-month</td>\n",
              "      <td>Yes</td>\n",
              "      <td>Electronic check</td>\n",
              "      <td>44.70</td>\n",
              "      <td>93.70</td>\n",
              "      <td>Yes</td>\n",
              "    </tr>\n",
              "    <tr>\n",
              "      <th>1998</th>\n",
              "      <td>Male</td>\n",
              "      <td>Yes</td>\n",
              "      <td>No</td>\n",
              "      <td>No</td>\n",
              "      <td>62</td>\n",
              "      <td>Yes</td>\n",
              "      <td>Yes</td>\n",
              "      <td>Fiber optic</td>\n",
              "      <td>No</td>\n",
              "      <td>Yes</td>\n",
              "      <td>Yes</td>\n",
              "      <td>Yes</td>\n",
              "      <td>Yes</td>\n",
              "      <td>Yes</td>\n",
              "      <td>One year</td>\n",
              "      <td>Yes</td>\n",
              "      <td>Bank transfer (automatic)</td>\n",
              "      <td>110.75</td>\n",
              "      <td>7053.35</td>\n",
              "      <td>No</td>\n",
              "    </tr>\n",
              "    <tr>\n",
              "      <th>1999</th>\n",
              "      <td>Female</td>\n",
              "      <td>No</td>\n",
              "      <td>Yes</td>\n",
              "      <td>Yes</td>\n",
              "      <td>16</td>\n",
              "      <td>Yes</td>\n",
              "      <td>No</td>\n",
              "      <td>No</td>\n",
              "      <td>No internet service</td>\n",
              "      <td>No internet service</td>\n",
              "      <td>No internet service</td>\n",
              "      <td>No internet service</td>\n",
              "      <td>No internet service</td>\n",
              "      <td>No internet service</td>\n",
              "      <td>Two year</td>\n",
              "      <td>No</td>\n",
              "      <td>Mailed check</td>\n",
              "      <td>19.70</td>\n",
              "      <td>301.55</td>\n",
              "      <td>No</td>\n",
              "    </tr>\n",
              "  </tbody>\n",
              "</table>\n",
              "<p>2000 rows × 20 columns</p>\n",
              "</div>"
            ],
            "text/plain": [
              "      gender SeniorCitizen Partner Dependents  tenure PhoneService  \\\n",
              "0       Male            No      No         No      12          Yes   \n",
              "1       Male            No      No         No       9          Yes   \n",
              "2       Male            No      No         No      27          Yes   \n",
              "3       Male            No      No        Yes      27          Yes   \n",
              "4       Male            No     Yes        Yes       1          Yes   \n",
              "...      ...           ...     ...        ...     ...          ...   \n",
              "1995  Female            No      No         No       7          Yes   \n",
              "1996  Female            No      No         No      47          Yes   \n",
              "1997    Male           Yes      No         No       2          Yes   \n",
              "1998    Male           Yes      No         No      62          Yes   \n",
              "1999  Female            No     Yes        Yes      16          Yes   \n",
              "\n",
              "     MultipleLines InternetService       OnlineSecurity         OnlineBackup  \\\n",
              "0              Yes     Fiber optic                   No                   No   \n",
              "1               No              No  No internet service  No internet service   \n",
              "2               No             DSL                  Yes                   No   \n",
              "3              Yes     Fiber optic                   No                   No   \n",
              "4               No     Fiber optic                   No                   No   \n",
              "...            ...             ...                  ...                  ...   \n",
              "1995           Yes     Fiber optic                   No                   No   \n",
              "1996           Yes             DSL                  Yes                  Yes   \n",
              "1997            No             DSL                   No                   No   \n",
              "1998           Yes     Fiber optic                   No                  Yes   \n",
              "1999            No              No  No internet service  No internet service   \n",
              "\n",
              "         DeviceProtection          TechSupport          StreamingTV  \\\n",
              "0                      No                   No                  Yes   \n",
              "1     No internet service  No internet service  No internet service   \n",
              "2                     Yes                  Yes                  Yes   \n",
              "3                      No                  Yes                   No   \n",
              "4                      No                   No                  Yes   \n",
              "...                   ...                  ...                  ...   \n",
              "1995                   No                   No                   No   \n",
              "1996                   No                  Yes                   No   \n",
              "1997                   No                   No                   No   \n",
              "1998                  Yes                  Yes                  Yes   \n",
              "1999  No internet service  No internet service  No internet service   \n",
              "\n",
              "          StreamingMovies        Contract PaperlessBilling  \\\n",
              "0                      No  Month-to-month              Yes   \n",
              "1     No internet service  Month-to-month               No   \n",
              "2                     Yes        One year               No   \n",
              "3                      No  Month-to-month              Yes   \n",
              "4                     Yes  Month-to-month               No   \n",
              "...                   ...             ...              ...   \n",
              "1995                   No  Month-to-month              Yes   \n",
              "1996                  Yes        Two year               No   \n",
              "1997                   No  Month-to-month              Yes   \n",
              "1998                  Yes        One year              Yes   \n",
              "1999  No internet service        Two year               No   \n",
              "\n",
              "                  PaymentMethod  MonthlyCharges  TotalCharges Churn  \n",
              "0              Electronic check           84.45       1059.55   Yes  \n",
              "1                  Mailed check           20.40        181.80    No  \n",
              "2              Electronic check           81.70       2212.55    No  \n",
              "3              Electronic check           79.50       2180.55    No  \n",
              "4                  Mailed check           89.15         89.15   Yes  \n",
              "...                         ...             ...           ...   ...  \n",
              "1995  Bank transfer (automatic)           75.10        552.95   Yes  \n",
              "1996               Mailed check           74.05       3496.30    No  \n",
              "1997           Electronic check           44.70         93.70   Yes  \n",
              "1998  Bank transfer (automatic)          110.75       7053.35    No  \n",
              "1999               Mailed check           19.70        301.55    No  \n",
              "\n",
              "[2000 rows x 20 columns]"
            ]
          },
          "execution_count": 66,
          "metadata": {},
          "output_type": "execute_result"
        }
      ],
      "source": [
        "df_test"
      ]
    },
    {
      "cell_type": "markdown",
      "metadata": {
        "id": "vqkpwJaNdSyO"
      },
      "source": [
        "#### 9.0 Model Persistance"
      ]
    },
    {
      "cell_type": "code",
      "execution_count": null,
      "metadata": {
        "id": "gZ6La0fkdSyQ",
        "outputId": "95d4c08f-78af-4570-a109-6089ea8f8b0c"
      },
      "outputs": [
        {
          "data": {
            "text/plain": [
              "['./models/encoder.joblib']"
            ]
          },
          "execution_count": 50,
          "metadata": {},
          "output_type": "execute_result"
        }
      ],
      "source": [
        "import joblib\n",
        "\n",
        "os.makedirs('./models/')\n",
        "joblib.dump(gradient_pipeline,'./models/finished_pipeline.joblib')\n",
        "joblib.dump(LabelEncoder,'./models/encoder.joblib')"
      ]
    },
    {
      "cell_type": "markdown",
      "metadata": {
        "id": "QX9Fs8cKdSyS"
      },
      "source": [
        "#### 10 Conclusions and Recommendations"
      ]
    },
    {
      "cell_type": "markdown",
      "metadata": {
        "id": "LERMD5mhdSyT"
      },
      "source": [
        "In conclusion, the development and evaluation of the classification model using a gradient pipeline have yielded insightful results. The gradient pipeline, which incorporates feature selection, sampling techniques, and hyperparameter tuning, has contributed to the model's ability to capture complex patterns in the data. Through rigorous testing on an independent test set, we have assessed the model's performance using key classification metrics.\n",
        "\n",
        "The evaluation metrics, including accuracy, precision, recall, F1 score, and area under the ROC curve, provide a comprehensive understanding of the model's strengths and limitations."
      ]
    }
  ],
  "metadata": {
    "kernelspec": {
      "display_name": "Python 3",
      "language": "python",
      "name": "python3"
    },
    "language_info": {
      "codemirror_mode": {
        "name": "ipython",
        "version": 3
      },
      "file_extension": ".py",
      "mimetype": "text/x-python",
      "name": "python",
      "nbconvert_exporter": "python",
      "pygments_lexer": "ipython3",
      "version": "3.11.4"
    },
    "colab": {
      "provenance": [],
      "include_colab_link": true
    }
  },
  "nbformat": 4,
  "nbformat_minor": 0
}